{
  "nbformat": 4,
  "nbformat_minor": 0,
  "metadata": {
    "colab": {
      "name": "Seminario_Sergio_Andrés_Gutiérrez_Rojas.ipynb",
      "version": "0.3.2",
      "provenance": [],
      "collapsed_sections": [],
      "include_colab_link": true
    },
    "kernelspec": {
      "display_name": "Python 3",
      "language": "python",
      "name": "python3"
    }
  },
  "cells": [
    {
      "cell_type": "markdown",
      "metadata": {
        "id": "view-in-github",
        "colab_type": "text"
      },
      "source": [
        "<a href=\"https://colab.research.google.com/github/sergiogut1805/03MAIR-Algoritmos-de-optimizacion/blob/master/SEMINARIO/Seminario_Sergio_Andr%C3%A9s_Guti%C3%A9rrez_Rojas.ipynb\" target=\"_parent\"><img src=\"https://colab.research.google.com/assets/colab-badge.svg\" alt=\"Open In Colab\"/></a>"
      ]
    },
    {
      "metadata": {
        "colab_type": "text",
        "id": "hVbXYX-RfPWh"
      },
      "cell_type": "markdown",
      "source": [
        "# Algoritmos de optimización - Seminario<br>\n",
        "Nombre y Apellidos:  Sergio Andrés Gutiérrez Rojas <br>\n",
        "Url: https://github.com/sergiogut1805/03MAIR-Algoritmos-de-optimizacion/blob/master/SEMINARIO/Seminario_Sergio_Andrés_Gutiérrez_Rojas.ipynb<br>\n",
        "Problema:\n",
        "> 1. Elección de grupos de población homogéneos <br>\n",
        "\n",
        "Descripción del problema:\n",
        "\n",
        "Una productora ganadera nos encarga la tarea de seleccionar grupos de\n",
        "terneros para aplicar 3 tratamientos diferentes. Para cada uno de los\n",
        "tratamientos debemos seleccionar 3 grupos de terneros que sean lo mas\n",
        "homogéneos posible en peso para que en los resultados del tratamiento influya\n",
        "lo menos posible el peso del animal. Disponemos de una población de N\n",
        "animales entre machos y hembras\n",
        "• Se solicita diseñar un algoritmo para conseguir una agrupación que cumpla de la\n",
        "mejor manera posible las especificaciones de la productora.\n",
        "Seminario I - SE1 Asignatura: Algoritmos de Optimización – TC1\n",
        "Problema 1. Elección de grupos de población homogéneos\n",
        "ID Peso Sexo\n",
        "1 38.7 M\n",
        "2 37.1 H\n",
        "3 39.2 M\n",
        "• Aun se desconocen los datos concretos de los animales por lo que debemos\n",
        "trabajar con datos que debemos generar de forma aleatoria. Lo que si nos\n",
        "proporcionan es una plantilla de los datos:\n",
        "• Hemos podido averigua que el peso medio del ternero es 37kg con una\n",
        "desviación estándar de 2.1\n",
        "\n",
        "(*) La respuesta es obligatoria\n",
        "\n",
        "### Nota:\n",
        "\n",
        "Se trató de resolver el problema acotando la solución a (muestra de 100 inicialmente) y calculando previamente los valores que varian para hallar los grupos y su homogeniedad, se documenta y explica todo lo que se hizo para que en algun caso que no se vea claro o no se halla hecho de la mejor forma se entienda el abordaje realizado.\n",
        "\n",
        "\n",
        "\n",
        "                                        "
      ]
    },
    {
      "metadata": {
        "colab_type": "text",
        "id": "3_-exlrTgLd-"
      },
      "cell_type": "markdown",
      "source": [
        "### (*)¿Cuantas posibilidades hay sin tener en cuenta las restricciones?<br>\n",
        "\n",
        "Respuesta\n",
        "\n",
        "Para calcular el número de posibles soluciones debemos tener en cuenta algunos factores.  \n",
        "\n",
        "Se deben realizar un total de 9 grupos de terneros de tal forma que sean lo más homogéneos posibles. \n",
        "\n",
        "Si se tiene una cantidad de N terneros donde su peso medio es de 37kg con una desviación estándar de 2.1kg sabremos que todos estarán entre 39.1kg y 34.9kg. \n",
        "\n",
        "Cada vez que introduzcamos uno de los terneros en un grupo tendremos un total de (N-1) terneros, y al final la suma de los terneros en todos los grupos deberá ser de N.  \n",
        "\n",
        "basado en esto el número total de soluciones sin tener en cuenta las soluciones será infinito, pues si no influye el que los resultados sean lo más homogéneos posibles en peso, sexo del animal, o la cantidad de animales en cada grupo, las posibilidades de realizar los 9 grupos con cualquier ternero y con cualquier cantidad de terneros son infinitas. \n",
        "\n",
        "\n",
        "¿Cuantas posibilidades hay teniendo en cuenta todas las restricciones.\n",
        "\n",
        "\n"
      ]
    },
    {
      "metadata": {
        "colab_type": "text",
        "id": "WfCUqJyKhPcw"
      },
      "cell_type": "markdown",
      "source": [
        "Respuesta"
      ]
    },
    {
      "metadata": {
        "colab_type": "text",
        "id": "dzynfVJahHoY"
      },
      "cell_type": "markdown",
      "source": [
        "Modelo para el espacio de soluciones<br>\n",
        "### (*) ¿Cual es la estructura de datos que mejor se adapta al problema? Argumentalo.(Es posible que hayas elegido una al principio y veas la necesidad de cambiar, arguentalo)\n",
        "\n",
        "Respuesta\n",
        "\n",
        "Al etiquetar los terneros con un índice de 1 a N podemos indicar el peso estimado de cada uno de los N terneros, para posteriormente ordenar dicho peso de menor a mayor y obtener la diferencia de peso entre el primero y segundo, segundo y tercero, etc...  \n",
        "\n",
        "de esta manera sabremos la variación entre el peso de cada grupo de terneros y después obteniendo las variaciones más grandes podemos decir que estas causarían una desviación en la homogeneidad del grupo, por lo que con el fin de evitar esto se realizaría un nuevo grupo con este ternero para que en este nuevo grupo la homogeneidad sea mayor, y realizamos esto para separar los 9 grupos. \n"
      ]
    },
    {
      "metadata": {
        "colab_type": "text",
        "id": "7Z9U2W7bi-XS"
      },
      "cell_type": "markdown",
      "source": [
        "### (*)¿Cual es la función objetivo?\n",
        "\n",
        "Respuesta\n",
        "\n",
        "En este caso se puede identificar una población N, que debe ser separada en 3 grupos, cada uno de ellos dividido en 3 subgrupos, para un total de 9 subgrupos que sean lo más homogéneos posibles en una de las condiciones de los individuos que es el peso.\n",
        "\n",
        "![texto alternativo](https://i.ibb.co/Tvm6m7r/FO1.jpg)\n",
        "\n",
        "Se considera la condición de usar todos los N individuos, por lo que se tendrá: \n",
        "\n",
        "![texto alternativo](https://i.ibb.co/9Wz2tcn/FO2.jpg)\n",
        "\n",
        "Con el fin de asegurarnos de la homogeneidad de los grupos se establece las siguientes condiciones:\n",
        "\n",
        "![texto alternativo](https://i.ibb.co/wdttxjn/FO3.jpg)\n",
        "\n",
        "\n",
        "### (*)¿Es un problema de maximización o minimización?\n"
      ]
    },
    {
      "metadata": {
        "colab_type": "text",
        "id": "hBalWLM7j1_d"
      },
      "cell_type": "markdown",
      "source": [
        "Respuesta\n",
        "\n",
        "Es un problema de minimización pues se inicia con un grupo de N individuos y se van reduciendo o separando con el fin de garantizar una homogeneidad en los grupos creados con base a ciertos parámetros de cada individuo. "
      ]
    },
    {
      "metadata": {
        "colab_type": "text",
        "id": "rlnTYgY1j6I2"
      },
      "cell_type": "markdown",
      "source": [
        "### Diseña un algoritmo para resolver el problema por fuerza bruta"
      ]
    },
    {
      "metadata": {
        "colab_type": "text",
        "id": "70rDgxYXkC8r"
      },
      "cell_type": "markdown",
      "source": [
        "Respuesta"
      ]
    },
    {
      "metadata": {
        "colab_type": "code",
        "id": "CJb5sQ0qkENy",
        "colab": {
          "base_uri": "https://localhost:8080/",
          "height": 1754
        },
        "outputId": "5c6288d3-f181-4c16-c208-d88eb3978f9a"
      },
      "cell_type": "code",
      "source": [
        "import numpy as np\n",
        "from random import uniform\n",
        "\n",
        "#Se generan los limites de los valores, se sabe que el valor promedio es de 37 con una desviacion de +-2.1\n",
        "a = 34.9\n",
        "b = 39.1\n",
        "#Se crea una variable que llevara el promedio de todos los valores\n",
        "# aleatorios entre 34.9 y 39.1\n",
        "Promedio = 0\n",
        "# Se crea un vector de 100 posiciones en la que se almacenara la diferencia del dato siguiente menos el dato anterior\n",
        "Diferencia = np.zeros((99,1))\n",
        "# Se crea un vector en el que se ordenaran los datos y de evidenciaran los grupos\n",
        "Grupos = np.zeros((99,1))\n",
        "\n",
        "#inicialmente con ordenación por selección la complejidad es de O(N^2)\n",
        "def selection_sort(x):\n",
        "    for i in range(len(x)):\n",
        "        swap = i + np.argmin(x[i:])\n",
        "        (x[i], x[swap]) = (x[swap], x[i])\n",
        "    return x\n",
        "\n",
        "r = []\n",
        "\n",
        "# Se generan 100 randomicos entre los limites establecidos de \"a\" y \"b\"\n",
        "for i in range(100):\n",
        "  r.append(uniform(a, b))\n",
        "  \n",
        "print(r)\n",
        "\n",
        "#%se obtiene el promedio de los randomicos(solo para saber la media de los datos)\n",
        "for i in range(100):\n",
        "    Promedio = r[i] + Promedio\n",
        "#print(\"Promedio \" + str(Promedio))\n",
        "    \n",
        "Promedio=Promedio/100\n",
        "#Se ordenan de menor a mayor los randomicos anteriores\n",
        "B = selection_sort(r); \n",
        "\n",
        "\n",
        "#Se realiza la diferencia del randomico n menos el randomico n-1, para obtener la diferencia que hay entre cada uno de ellos\n",
        "for k in range(99):\n",
        "    Diferencia[k]=(B[k + 1] - B[k])\n",
        "    \n",
        "#print(Diferencia)\n",
        "      \n",
        "#Se ordenan las diferencias de menor a mayor, siendo las mas grandes las que causaran una variacion mayor en los grupos, por lo que son las que debemos agrupar en el grupo siguiente y no dejarlas en el mismo        \n",
        "C = sorted(Diferencia)\n",
        "\n",
        "\n",
        "# Se ordenan los valores teniendo en cuenta si la diferencia del valor n menos n-1 es menos a las 9 diferencias más grandes encontradas en el paso anterior, con el fin de evitar que altere el promedio del grupo.\n",
        "for k in range(0,99):\n",
        "  Diferencia[k] = B[k + 1] - B[k]\n",
        "  if (Diferencia[k] < C[91]):\n",
        "    Grupos[k] = B[k]\n",
        "                \n",
        "# Se imprime el peso de los individuos, siendo el valor 0 la diferencia entre un grupo y el siguiente\n",
        "# con un total de 9 grupos que eran los solicitados.   \n",
        "print(\"Grupos separados por un 0: \")\n",
        "print(Grupos)"
      ],
      "execution_count": 3,
      "outputs": [
        {
          "output_type": "stream",
          "text": [
            "[37.31740529049054, 36.91710294917089, 35.681950418561506, 37.20852506690568, 36.149102459860785, 35.430205299321464, 35.89445517177519, 36.70294132130865, 38.79024798035043, 36.1417753956934, 36.177340704897006, 38.53934397305226, 34.90772001486166, 38.16049212296682, 37.187323609562085, 35.9840472457107, 35.07166493314964, 39.03590578028428, 36.024862125331566, 35.72652968343227, 37.65598165021437, 38.67039878846412, 35.27189667418544, 35.98343247061344, 38.42551852533243, 38.6804194371861, 38.615110599887466, 35.47295189721448, 36.459669684960865, 36.89071903165874, 37.4849324821316, 35.18455670771932, 36.372009983114296, 38.26666736251311, 35.304098947741835, 35.82605897522288, 38.75939795431526, 35.72421512370832, 38.14465207665438, 38.06674147034648, 35.14291967941396, 37.50585781382448, 35.969626170078214, 36.61935079305358, 37.95133445312792, 38.619928407482604, 35.6284947838058, 38.592137194904915, 34.948358964015206, 36.94919524408415, 38.69545061551095, 37.028954987089705, 36.577842867503655, 38.76703881013734, 37.433966615377464, 37.83276929704232, 39.01773653501465, 38.82707187400876, 36.72785868894423, 35.628719390177, 38.19078799392924, 36.95920820449447, 36.904055747718246, 36.989532978181586, 36.40132006204414, 37.927834668133606, 36.31824646859053, 39.0998120535786, 37.96284703004768, 39.024088757222756, 37.09066639802265, 38.793288945046555, 35.20694416452214, 36.08716976595996, 38.6371689899789, 37.00192374213063, 38.20806207667908, 36.87754517789139, 36.53896106858799, 36.213852392615166, 35.70423574506997, 38.17530668787883, 35.446834297984786, 35.05225217295046, 36.48741552681727, 36.49508056938962, 36.04518758660372, 36.2374322530256, 36.55384553363814, 38.38696060551503, 38.5591271183562, 37.15620303796451, 38.39213847214083, 38.65156354336854, 38.47361851543752, 37.040014901892455, 35.44140879295026, 39.08001507530646, 37.073267703832705, 35.11588834321771]\n",
            "Grupos separados por un 0: \n",
            "[[34.90772001]\n",
            " [34.94835896]\n",
            " [35.05225217]\n",
            " [35.07166493]\n",
            " [35.11588834]\n",
            " [35.14291968]\n",
            " [35.18455671]\n",
            " [35.20694416]\n",
            " [35.27189667]\n",
            " [ 0.        ]\n",
            " [35.4302053 ]\n",
            " [35.44140879]\n",
            " [35.4468343 ]\n",
            " [ 0.        ]\n",
            " [35.62849478]\n",
            " [35.62871939]\n",
            " [35.68195042]\n",
            " [35.70423575]\n",
            " [35.72421512]\n",
            " [35.72652968]\n",
            " [35.82605898]\n",
            " [35.89445517]\n",
            " [35.96962617]\n",
            " [35.98343247]\n",
            " [35.98404725]\n",
            " [36.02486213]\n",
            " [36.04518759]\n",
            " [36.08716977]\n",
            " [36.1417754 ]\n",
            " [36.14910246]\n",
            " [36.1773407 ]\n",
            " [36.21385239]\n",
            " [36.23743225]\n",
            " [36.31824647]\n",
            " [36.37200998]\n",
            " [36.40132006]\n",
            " [36.45966968]\n",
            " [36.48741553]\n",
            " [36.49508057]\n",
            " [36.53896107]\n",
            " [36.55384553]\n",
            " [36.57784287]\n",
            " [36.61935079]\n",
            " [36.70294132]\n",
            " [ 0.        ]\n",
            " [36.87754518]\n",
            " [36.89071903]\n",
            " [36.90405575]\n",
            " [36.91710295]\n",
            " [36.94919524]\n",
            " [36.9592082 ]\n",
            " [36.98953298]\n",
            " [37.00192374]\n",
            " [37.02895499]\n",
            " [37.0400149 ]\n",
            " [37.0732677 ]\n",
            " [37.0906664 ]\n",
            " [37.15620304]\n",
            " [37.18732361]\n",
            " [37.20852507]\n",
            " [ 0.        ]\n",
            " [37.43396662]\n",
            " [37.48493248]\n",
            " [ 0.        ]\n",
            " [ 0.        ]\n",
            " [37.8327693 ]\n",
            " [37.92783467]\n",
            " [37.95133445]\n",
            " [37.96284703]\n",
            " [38.06674147]\n",
            " [38.14465208]\n",
            " [38.16049212]\n",
            " [38.17530669]\n",
            " [38.19078799]\n",
            " [38.20806208]\n",
            " [ 0.        ]\n",
            " [38.38696061]\n",
            " [38.39213847]\n",
            " [38.42551853]\n",
            " [38.47361852]\n",
            " [38.53934397]\n",
            " [38.55912712]\n",
            " [38.59213719]\n",
            " [38.6151106 ]\n",
            " [38.61992841]\n",
            " [38.63716899]\n",
            " [38.65156354]\n",
            " [38.67039879]\n",
            " [38.68041944]\n",
            " [38.69545062]\n",
            " [38.75939795]\n",
            " [38.76703881]\n",
            " [38.79024798]\n",
            " [38.79328895]\n",
            " [ 0.        ]\n",
            " [39.01773654]\n",
            " [39.02408876]\n",
            " [39.03590578]\n",
            " [39.08001508]]\n"
          ],
          "name": "stdout"
        }
      ]
    },
    {
      "metadata": {
        "colab_type": "text",
        "id": "tgrnsC2nkFa8"
      },
      "cell_type": "markdown",
      "source": [
        "### Calcula la complejidad del algoritmo por fuerza bruta"
      ]
    },
    {
      "metadata": {
        "colab_type": "text",
        "id": "9eUd3xwckP68"
      },
      "cell_type": "markdown",
      "source": [
        "Respuesta\n",
        "\n",
        "La complejidad de este algortimo es O(N^2) segun el palnteamiento acotado que se propuso para tratar de resolver el ejercicio."
      ]
    },
    {
      "metadata": {
        "colab_type": "text",
        "id": "txbrmLmskReM"
      },
      "cell_type": "markdown",
      "source": [
        "###(*)Diseña un algoritmo que mejore la complejidad del algortimo por fuerza bruta. Argumenta porque crees que mejora el algoritmo por fuerza bruta"
      ]
    },
    {
      "metadata": {
        "colab_type": "text",
        "id": "hLrVwt5QkZPD"
      },
      "cell_type": "markdown",
      "source": [
        "Respuesta"
      ]
    },
    {
      "metadata": {
        "colab_type": "code",
        "id": "m1eyM21Vkabg",
        "outputId": "c663810b-3f0c-41f8-8d61-b06a19364ce2",
        "colab": {
          "base_uri": "https://localhost:8080/",
          "height": 1754
        }
      },
      "cell_type": "code",
      "source": [
        "import numpy as np\n",
        "from random import uniform\n",
        "\n",
        "#Se generan los limites de los valores, se sabe que el valor promedio es de 37 con una desviacion de +-2.1\n",
        "a = 34.9\n",
        "b = 39.1\n",
        "#Se crea una variable que llevara el promedio de todos los valores\n",
        "# aleatorios entre 34.9 y 39.1\n",
        "Promedio = 0\n",
        "# Se crea un vector de 100 posiciones en la que se almacenara la diferencia del dato siguiente menos el dato anterior\n",
        "Diferencia = np.zeros((99,1))\n",
        "# Se crea un vector en el que se ordenaran los datos y de evidenciaran los grupos\n",
        "Grupos = np.zeros((99,1))\n",
        "\n",
        "r = []\n",
        "\n",
        "# Se generan 100 randomicos entre los limites establecidos de \"a\" y \"b\"\n",
        "for i in range(100):\n",
        "  r.append(uniform(a, b))\n",
        "  \n",
        "print(r)\n",
        "\n",
        "#%se obtiene el promedio de los randomicos(solo para saber la media de los datos)\n",
        "for i in range(100):\n",
        "    Promedio = r[i] + Promedio\n",
        "#print(\"Promedio \" + str(Promedio))\n",
        "    \n",
        "Promedio=Promedio/100\n",
        "#Se ordenan de menor a mayor los randomicos anteriores\n",
        "#se uso np.sort que es u ordenamiento mucho mas optimizado y que rebaja la complejidad a casi lineal\n",
        "B = np.sort(r); \n",
        "\n",
        "#Se realiza la diferencia del randomico n menos el randomico n-1, para obtener la diferencia que hay entre cada uno de ellos\n",
        "for k in range(99):\n",
        "    Diferencia[k]=(B[k + 1] - B[k])\n",
        "      \n",
        "#Se ordenan las diferencias de menor a mayor, siendo las mas grandes las que causaran una variacion mayor en los grupos, por lo que son las que debemos agrupar en el grupo siguiente y no dejarlas en el mismo\n",
        "#se uso np.sort que es u ordenamiento mucho mas optimizado y que rebaja la complejidad a casi lineal\n",
        "C = np.sort(Diferencia, axis=0)\n",
        "\n",
        "# Se ordenan los valores teniendo en cuenta si la diferencia del valor n menos n-1 es menos a las 9 diferencias más grandes encontradas en el paso anterior, con el fin de evitar que altere el promedio del grupo.\n",
        "for k in range(0,99):\n",
        "  Diferencia[k] = B[k + 1] - B[k]\n",
        "  if (Diferencia[k] < C[91]):\n",
        "    Grupos[k] = B[k]\n",
        "                \n",
        "# Se imprime el peso de los individuos, siendo el valor 0 la diferencia entre un grupo y el siguiente\n",
        "# con un total de 9 grupos que eran los solicitados.   \n",
        "print(\"Grupos separados por un 0: \")\n",
        "print(Grupos)"
      ],
      "execution_count": 2,
      "outputs": [
        {
          "output_type": "stream",
          "text": [
            "[36.33726854248728, 35.52970759297123, 37.9203734258794, 36.806705171037464, 37.29083395037264, 35.48957695382414, 35.787118055453114, 36.4464082959292, 36.60748745295604, 38.4579297834782, 35.574438158150656, 38.07023537532288, 36.0410365745085, 37.69790572732385, 37.59088642146211, 35.268793030102486, 35.09616914067052, 37.73362652673666, 38.92651338491878, 36.30808182296171, 36.295372028301614, 36.79355170136359, 37.152437732719335, 38.73883955712341, 37.19024007826, 37.29478499625542, 36.34603651746701, 37.26913364591243, 39.07858877140811, 36.448452610088815, 37.27111402969649, 35.07026036323801, 38.093577794245356, 36.06692696030969, 38.985693866240254, 37.39738174871248, 36.1959845886146, 37.047383477535405, 35.98614791104209, 35.479803676401296, 37.08284942202685, 37.161101517615414, 37.646055300669445, 38.850210347537185, 35.00562390900756, 36.38828158749206, 35.13768709093396, 35.752633326471255, 36.401665509507666, 37.13585895389361, 37.01704848111942, 36.271925623762954, 37.96412673738606, 37.93606516971088, 38.07966267034958, 36.18344753508062, 37.71148839803958, 38.152742726441495, 39.053706146868166, 38.87807691009754, 36.257350232863416, 35.57751032218236, 35.73886084142201, 36.85024667563958, 37.82056802605496, 36.78524342689914, 38.5339549303908, 38.93953015328107, 37.29981927471662, 36.59453762495926, 37.72621791934071, 35.8633631205283, 37.29956135396572, 35.74397422445704, 38.399012527352966, 36.91194725566661, 37.32436180472958, 35.89497326458419, 36.90978308859059, 36.950548386144504, 37.414756613335385, 35.83786649582459, 36.004792494086736, 35.00987248721703, 36.888405299608685, 36.224280434148845, 36.37375564379906, 36.11476754424098, 36.53450374488548, 36.404252335766195, 38.1147866370564, 36.07461750636099, 36.70494679357471, 36.226815918681936, 37.60989064834977, 35.57654262583585, 38.73800385986906, 37.77606322402434, 38.415912472953735, 36.84686898530032]\n",
            "Grupos separados por un 0: \n",
            "[[35.00562391]\n",
            " [35.00987249]\n",
            " [35.07026036]\n",
            " [35.09616914]\n",
            " [ 0.        ]\n",
            " [ 0.        ]\n",
            " [35.47980368]\n",
            " [35.48957695]\n",
            " [35.52970759]\n",
            " [35.57443816]\n",
            " [35.57654263]\n",
            " [ 0.        ]\n",
            " [35.73886084]\n",
            " [35.74397422]\n",
            " [35.75263333]\n",
            " [35.78711806]\n",
            " [35.8378665 ]\n",
            " [35.86336312]\n",
            " [35.89497326]\n",
            " [35.98614791]\n",
            " [36.00479249]\n",
            " [36.04103657]\n",
            " [36.06692696]\n",
            " [36.07461751]\n",
            " [36.11476754]\n",
            " [36.18344754]\n",
            " [36.19598459]\n",
            " [36.22428043]\n",
            " [36.22681592]\n",
            " [36.25735023]\n",
            " [36.27192562]\n",
            " [36.29537203]\n",
            " [36.30808182]\n",
            " [36.33726854]\n",
            " [36.34603652]\n",
            " [36.37375564]\n",
            " [36.38828159]\n",
            " [36.40166551]\n",
            " [36.40425234]\n",
            " [36.4464083 ]\n",
            " [36.44845261]\n",
            " [36.53450374]\n",
            " [36.59453762]\n",
            " [36.60748745]\n",
            " [36.70494679]\n",
            " [36.78524343]\n",
            " [36.7935517 ]\n",
            " [36.80670517]\n",
            " [36.84686899]\n",
            " [36.85024668]\n",
            " [36.8884053 ]\n",
            " [36.90978309]\n",
            " [36.91194726]\n",
            " [36.95054839]\n",
            " [37.01704848]\n",
            " [37.04738348]\n",
            " [37.08284942]\n",
            " [37.13585895]\n",
            " [37.15243773]\n",
            " [37.16110152]\n",
            " [37.19024008]\n",
            " [37.26913365]\n",
            " [37.27111403]\n",
            " [37.29083395]\n",
            " [37.294785  ]\n",
            " [37.29956135]\n",
            " [37.29981927]\n",
            " [37.3243618 ]\n",
            " [37.39738175]\n",
            " [ 0.        ]\n",
            " [37.59088642]\n",
            " [37.60989065]\n",
            " [37.6460553 ]\n",
            " [37.69790573]\n",
            " [37.7114884 ]\n",
            " [37.72621792]\n",
            " [37.73362653]\n",
            " [37.77606322]\n",
            " [37.82056803]\n",
            " [37.92037343]\n",
            " [37.93606517]\n",
            " [ 0.        ]\n",
            " [38.07023538]\n",
            " [38.07966267]\n",
            " [38.09357779]\n",
            " [38.11478664]\n",
            " [ 0.        ]\n",
            " [38.39901253]\n",
            " [38.41591247]\n",
            " [38.45792978]\n",
            " [ 0.        ]\n",
            " [38.73800386]\n",
            " [ 0.        ]\n",
            " [38.85021035]\n",
            " [38.87807691]\n",
            " [38.92651338]\n",
            " [38.93953015]\n",
            " [38.98569387]\n",
            " [39.05370615]]\n"
          ],
          "name": "stdout"
        }
      ]
    },
    {
      "metadata": {
        "id": "FwegcUgkVRk5",
        "colab_type": "text"
      },
      "cell_type": "markdown",
      "source": [
        "La complejidad mejora debido a la mejora de los algortimos de ordenamiento en las dos secciones del codigo donde se deben posicionar valores, pasando de O(N^2) a O(N Log N)"
      ]
    },
    {
      "metadata": {
        "colab_type": "text",
        "id": "eGDB4K6uk1iN"
      },
      "cell_type": "markdown",
      "source": [
        "### (*)Calcula la complejidad del algoritmo "
      ]
    },
    {
      "metadata": {
        "colab_type": "text",
        "id": "NhpTh_BPk1ms"
      },
      "cell_type": "markdown",
      "source": [
        "Respuesta\n",
        "\n",
        "haciendo las mejoras correspondientes en los dos lugares donde se debe ordenar los vectores iniciales y de diferencia la complejidad se rebaja a casi lineal O(N Log N)"
      ]
    },
    {
      "metadata": {
        "colab_type": "text",
        "id": "3M6QjTsSkmYe"
      },
      "cell_type": "markdown",
      "source": [
        "Según el problema (y tenga sentido), diseña un juego de datos de entrada aleatorios"
      ]
    },
    {
      "metadata": {
        "colab_type": "text",
        "id": "Jc3_OlyNkvjZ"
      },
      "cell_type": "markdown",
      "source": [
        "Respuesta"
      ]
    },
    {
      "metadata": {
        "colab_type": "code",
        "id": "sJ-N2etjkyWc",
        "colab": {}
      },
      "cell_type": "code",
      "source": [
        ""
      ],
      "execution_count": 0,
      "outputs": []
    },
    {
      "metadata": {
        "colab_type": "text",
        "id": "zy5ZROmjlGo1"
      },
      "cell_type": "markdown",
      "source": [
        "Aplica el algoritmo al juego de datos generado"
      ]
    },
    {
      "metadata": {
        "colab_type": "text",
        "id": "_Cmj-PVylMsa"
      },
      "cell_type": "markdown",
      "source": [
        "Respuesta"
      ]
    },
    {
      "metadata": {
        "id": "TLQzvoboWYUQ",
        "colab_type": "text"
      },
      "cell_type": "markdown",
      "source": [
        ""
      ]
    },
    {
      "metadata": {
        "colab_type": "code",
        "id": "Jkx8GeiYlUz1",
        "colab": {}
      },
      "cell_type": "code",
      "source": [
        ""
      ],
      "execution_count": 0,
      "outputs": []
    },
    {
      "metadata": {
        "colab_type": "text",
        "id": "eTFWUJQrtGcv"
      },
      "cell_type": "markdown",
      "source": [
        "### Enumera las referencias que has utilizado(si ha sido necesario) para llevar a cabo el trabajo"
      ]
    },
    {
      "metadata": {
        "colab_type": "text",
        "id": "YKQ_mRBttWsP"
      },
      "cell_type": "markdown",
      "source": [
        "Respuesta\n",
        "\n",
        "1.https://jakevdp.github.io/PythonDataScienceHandbook/02.08-sorting.html (distintos tipos de ordenamiento y explicación de sus complejidades)<br>\n",
        "2.https://www.afternerd.com/blog/python-sort-list (Ordenación especial cuando hay flotantes de precisión larga)\n",
        "2.https://www.inf.utfsm.cl/~esaez/fio/s2_2004/apuntes/LP_s2_2004.pdf (Función objetivo y condiciones)"
      ]
    },
    {
      "metadata": {
        "colab_type": "text",
        "id": "kAkDPUyRtYyH"
      },
      "cell_type": "markdown",
      "source": [
        "Describe brevemente las lineas de como crees que es posible avanzar en el estudio del problema. Ten en cuenta incluso posibles variaciones del problema y/o variaciones al alza del tamaño"
      ]
    },
    {
      "metadata": {
        "colab_type": "text",
        "id": "IE0uZmo-tZu-"
      },
      "cell_type": "markdown",
      "source": [
        "Respuesta"
      ]
    },
    {
      "metadata": {
        "colab_type": "text",
        "id": "RsPH61ttxWuP"
      },
      "cell_type": "markdown",
      "source": [
        "### Aporte importante\n",
        "\n",
        "lista de varias complejidades de las operaciones internas de python calculadas función por función\n",
        "y comparación de las implementaciones de acuerdo a las fucniones internas usadas. \n",
        "\n",
        "https://www.ics.uci.edu/~pattis/ICS-33/lectures/complexitypython.txt"
      ]
    }
  ]
}