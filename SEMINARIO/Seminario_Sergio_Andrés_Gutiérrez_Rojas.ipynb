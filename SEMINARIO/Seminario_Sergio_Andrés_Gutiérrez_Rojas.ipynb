{
  "nbformat": 4,
  "nbformat_minor": 0,
  "metadata": {
    "colab": {
      "name": "Seminario_Sergio_Andrés_Gutiérrez_Rojas.ipynb",
      "version": "0.3.2",
      "provenance": [],
      "collapsed_sections": [],
      "include_colab_link": true
    },
    "kernelspec": {
      "display_name": "Python 3",
      "language": "python",
      "name": "python3"
    }
  },
  "cells": [
    {
      "cell_type": "markdown",
      "metadata": {
        "id": "view-in-github",
        "colab_type": "text"
      },
      "source": [
        "<a href=\"https://colab.research.google.com/github/sergiogut1805/03MAIR-Algoritmos-de-optimizacion/blob/master/SEMINARIO/Seminario_Sergio_Andr%C3%A9s_Guti%C3%A9rrez_Rojas.ipynb\" target=\"_parent\"><img src=\"https://colab.research.google.com/assets/colab-badge.svg\" alt=\"Open In Colab\"/></a>"
      ]
    },
    {
      "metadata": {
        "colab_type": "text",
        "id": "hVbXYX-RfPWh"
      },
      "cell_type": "markdown",
      "source": [
        "# Algoritmos de optimización - Seminario<br>\n",
        "Nombre y Apellidos:  Sergio Andrés Gutiérrez Rojas <br>\n",
        "Url: https://github.com/sergiogut1805/03MAIR-Algoritmos-de-optimizacion/blob/master/SEMINARIO/Seminario_Sergio_Andrés_Gutiérrez_Rojas.ipynb<br>\n",
        "Problema:\n",
        "> 1. Elección de grupos de población homogéneos <br>\n",
        "\n",
        "Descripción del problema:\n",
        "\n",
        "Una productora ganadera nos encarga la tarea de seleccionar grupos de\n",
        "terneros para aplicar 3 tratamientos diferentes. Para cada uno de los\n",
        "tratamientos debemos seleccionar 3 grupos de terneros que sean lo mas\n",
        "homogéneos posible en peso para que en los resultados del tratamiento influya\n",
        "lo menos posible el peso del animal. Disponemos de una población de N\n",
        "animales entre machos y hembras\n",
        "• Se solicita diseñar un algoritmo para conseguir una agrupación que cumpla de la\n",
        "mejor manera posible las especificaciones de la productora.\n",
        "Seminario I - SE1 Asignatura: Algoritmos de Optimización – TC1\n",
        "Problema 1. Elección de grupos de población homogéneos\n",
        "ID Peso Sexo\n",
        "1 38.7 M\n",
        "2 37.1 H\n",
        "3 39.2 M\n",
        "• Aun se desconocen los datos concretos de los animales por lo que debemos\n",
        "trabajar con datos que debemos generar de forma aleatoria. Lo que si nos\n",
        "proporcionan es una plantilla de los datos:\n",
        "• Hemos podido averigua que el peso medio del ternero es 37kg con una\n",
        "desviación estándar de 2.1\n",
        "\n",
        "(*) La respuesta es obligatoria\n",
        "\n",
        "### Nota:\n",
        "\n",
        "Se trató de resolver el problema acotando la solución a (muestra de 100 inicialmente) y calculando previamente los valores que varian para hallar los grupos y su homogeniedad, se documenta y explica todo lo que se hizo para que en algun caso que no se vea claro o no se halla hecho de la mejor forma se entienda el abordaje realizado.\n",
        "\n",
        "\n",
        "\n",
        "                                        "
      ]
    },
    {
      "metadata": {
        "colab_type": "text",
        "id": "3_-exlrTgLd-"
      },
      "cell_type": "markdown",
      "source": [
        "### (*)¿Cuantas posibilidades hay sin tener en cuenta las restricciones?<br>\n",
        "\n",
        "Respuesta\n",
        "\n",
        "Para calcular el número de posibles soluciones debemos tener en cuenta algunos factores.  \n",
        "\n",
        "Se deben realizar un total de 9 grupos de terneros de tal forma que sean lo más homogéneos posibles. \n",
        "\n",
        "Si se tiene una cantidad de N terneros donde su peso medio es de 37kg con una desviación estándar de 2.1kg sabremos que todos estarán entre 39.1kg y 34.9kg. \n",
        "\n",
        "Cada vez que introduzcamos uno de los terneros en un grupo tendremos un total de (N-1) terneros, y al final la suma de los terneros en todos los grupos deberá ser de N.  \n",
        "\n",
        "basado en esto el número total de soluciones sin tener en cuenta las soluciones será infinito, pues si no influye el que los resultados sean lo más homogéneos posibles en peso, sexo del animal, o la cantidad de animales en cada grupo, las posibilidades de realizar los 9 grupos con cualquier ternero y con cualquier cantidad de terneros son infinitas. \n",
        "\n",
        "\n",
        "¿Cuantas posibilidades hay teniendo en cuenta todas las restricciones.\n",
        "\n",
        "\n"
      ]
    },
    {
      "metadata": {
        "colab_type": "text",
        "id": "WfCUqJyKhPcw"
      },
      "cell_type": "markdown",
      "source": [
        "Respuesta"
      ]
    },
    {
      "metadata": {
        "colab_type": "text",
        "id": "dzynfVJahHoY"
      },
      "cell_type": "markdown",
      "source": [
        "Modelo para el espacio de soluciones<br>\n",
        "### (*) ¿Cual es la estructura de datos que mejor se adapta al problema? Argumentalo.(Es posible que hayas elegido una al principio y veas la necesidad de cambiar, arguentalo)\n",
        "\n",
        "Respuesta\n",
        "\n",
        "Al etiquetar los terneros con un índice de 1 a N podemos indicar el peso estimado de cada uno de los N terneros, para posteriormente ordenar dicho peso de menor a mayor y obtener la diferencia de peso entre el primero y segundo, segundo y tercero, etc...  \n",
        "\n",
        "de esta manera sabremos la variación entre el peso de cada grupo de terneros y después obteniendo las variaciones más grandes podemos decir que estas causarían una desviación en la homogeneidad del grupo, por lo que con el fin de evitar esto se realizaría un nuevo grupo con este ternero para que en este nuevo grupo la homogeneidad sea mayor, y realizamos esto para separar los 9 grupos. \n"
      ]
    },
    {
      "metadata": {
        "colab_type": "text",
        "id": "7Z9U2W7bi-XS"
      },
      "cell_type": "markdown",
      "source": [
        "### (*)¿Cual es la función objetivo?\n",
        "\n",
        "Respuesta\n",
        "\n",
        "En este caso se puede identificar una población N, que debe ser separada en 3 grupos, cada uno de ellos dividido en 3 subgrupos, para un total de 9 subgrupos que sean lo más homogéneos posibles en una de las condiciones de los individuos que es el peso.\n",
        "\n",
        "![texto alternativo](https://i.ibb.co/Tvm6m7r/FO1.jpg)\n",
        "\n",
        "Se considera la condición de usar todos los N individuos, por lo que se tendrá: \n",
        "\n",
        "![texto alternativo](https://i.ibb.co/9Wz2tcn/FO2.jpg)\n",
        "\n",
        "Con el fin de asegurarnos de la homogeneidad de los grupos se establece las siguientes condiciones:\n",
        "\n",
        "![texto alternativo](https://i.ibb.co/wdttxjn/FO3.jpg)\n",
        "\n",
        "\n",
        "### (*)¿Es un problema de maximización o minimización?\n"
      ]
    },
    {
      "metadata": {
        "colab_type": "text",
        "id": "hBalWLM7j1_d"
      },
      "cell_type": "markdown",
      "source": [
        "Respuesta\n",
        "\n",
        "Es un problema de minimización pues se inicia con un grupo de N individuos y se van reduciendo o separando con el fin de garantizar una homogeneidad en los grupos creados con base a ciertos parámetros de cada individuo. "
      ]
    },
    {
      "metadata": {
        "colab_type": "text",
        "id": "rlnTYgY1j6I2"
      },
      "cell_type": "markdown",
      "source": [
        "### Diseña un algoritmo para resolver el problema por fuerza bruta"
      ]
    },
    {
      "metadata": {
        "colab_type": "text",
        "id": "70rDgxYXkC8r"
      },
      "cell_type": "markdown",
      "source": [
        "Respuesta"
      ]
    },
    {
      "metadata": {
        "colab_type": "code",
        "id": "CJb5sQ0qkENy",
        "colab": {}
      },
      "cell_type": "code",
      "source": [
        "import numpy as np\n",
        "from random import uniform\n",
        "\n",
        "#Se generan los limites de los valores, se sabe que el valor promedio es de 37 con una desviacion de +-2.1\n",
        "a = 34.9\n",
        "b = 39.1\n",
        "#Se crea una variable que llevara el promedio de todos los valores\n",
        "# aleatorios entre 34.9 y 39.1\n",
        "Promedio = 0\n",
        "# Se crea un vector de 100 posiciones en la que se almacenara la diferencia del dato siguiente menos el dato anterior\n",
        "Diferencia = np.zeros((99,1))\n",
        "# Se crea un vector en el que se ordenaran los datos y de evidenciaran los grupos\n",
        "Grupos = np.zeros((99,1))\n",
        "\n",
        "#inicialmente con ordenación por selección la complejidad es de O(N^2)\n",
        "def selection_sort(x):\n",
        "    for i in range(len(x)):\n",
        "        swap = i + np.argmin(x[i:])\n",
        "        (x[i], x[swap]) = (x[swap], x[i])\n",
        "    return x\n",
        "\n",
        "r = []\n",
        "\n",
        "# Se generan 100 randomicos entre los limites establecidos de \"a\" y \"b\"\n",
        "for i in range(100):\n",
        "  r.append(uniform(a, b))\n",
        "\n",
        "#%se obtiene el promedio de los randomicos(solo para saber la media de los datos)\n",
        "for i in range(100):\n",
        "    Promedio = r[i] + Promedio\n",
        "#print(\"Promedio \" + str(Promedio))\n",
        "    \n",
        "Promedio=Promedio/100\n",
        "#Se ordenan de menor a mayor los randomicos anteriores\n",
        "B = selection_sort(r); \n",
        "\n",
        "print(B)\n",
        "\n",
        "#Se realiza la diferencia del randomico n menos el randomico n-1, para obtener la diferencia que hay entre cada uno de ellos\n",
        "for k in range(99):\n",
        "    Diferencia[k]=(B[k + 1] - B[k])\n",
        "    \n",
        "#print(Diferencia)\n",
        "      \n",
        "#Se ordenan las diferencias de menor a mayor, siendo las mas grandes las que causaran una variacion mayor en los grupos, por lo que son las que debemos agrupar en el grupo siguiente y no dejarlas en el mismo        \n",
        "C = sorted(Diferencia)\n",
        "\n",
        "\n",
        "# Se ordenan los valores teniendo en cuenta si la diferencia del valor n menos n-1 es menos a las 9 diferencias más grandes encontradas en el paso anterior, con el fin de evitar que altere el promedio del grupo.\n",
        "for k in range(0,99):\n",
        "  Diferencia[k] = B[k + 1] - B[k]\n",
        "  if (Diferencia[k] < C[91]):\n",
        "    Grupos[k] = B[k]\n",
        "                \n",
        "# Se imprime el peso de los individuos, siendo el valor 0 la diferencia entre un grupo y el siguiente\n",
        "# con un total de 9 grupos que eran los solicitados.   \n",
        "print(\"Grupos separados por un 0: \")\n",
        "print(Grupos)"
      ],
      "execution_count": 0,
      "outputs": []
    },
    {
      "metadata": {
        "colab_type": "text",
        "id": "tgrnsC2nkFa8"
      },
      "cell_type": "markdown",
      "source": [
        "### Calcula la complejidad del algoritmo por fuerza bruta"
      ]
    },
    {
      "metadata": {
        "colab_type": "text",
        "id": "9eUd3xwckP68"
      },
      "cell_type": "markdown",
      "source": [
        "Respuesta\n",
        "\n",
        "La complejidad de este algortimo es O(N^2) segun el palnteamiento acotado que se propuso para tratar de resolver el ejercicio."
      ]
    },
    {
      "metadata": {
        "colab_type": "text",
        "id": "txbrmLmskReM"
      },
      "cell_type": "markdown",
      "source": [
        "###(*)Diseña un algoritmo que mejore la complejidad del algortimo por fuerza bruta. Argumenta porque crees que mejora el algoritmo por fuerza bruta"
      ]
    },
    {
      "metadata": {
        "colab_type": "text",
        "id": "hLrVwt5QkZPD"
      },
      "cell_type": "markdown",
      "source": [
        "Respuesta"
      ]
    },
    {
      "metadata": {
        "colab_type": "code",
        "id": "m1eyM21Vkabg",
        "outputId": "c59f1ad6-5b84-49f2-9eb2-772a7524157a",
        "colab": {
          "base_uri": "https://localhost:8080/",
          "height": 2006
        }
      },
      "cell_type": "code",
      "source": [
        "import numpy as np\n",
        "from random import uniform\n",
        "\n",
        "#Se generan los limites de los valores, se sabe que el valor promedio es de 37 con una desviacion de +-2.1\n",
        "a = 34.9\n",
        "b = 39.1\n",
        "#Se crea una variable que llevara el promedio de todos los valores\n",
        "# aleatorios entre 34.9 y 39.1\n",
        "Promedio = 0\n",
        "# Se crea un vector de 100 posiciones en la que se almacenara la diferencia del dato siguiente menos el dato anterior\n",
        "Diferencia = np.zeros((99,1))\n",
        "# Se crea un vector en el que se ordenaran los datos y de evidenciaran los grupos\n",
        "Grupos = np.zeros((99,1))\n",
        "\n",
        "r = []\n",
        "\n",
        "# Se generan 100 randomicos entre los limites establecidos de \"a\" y \"b\"\n",
        "for i in range(100):\n",
        "  r.append(uniform(a, b))\n",
        "\n",
        "#%se obtiene el promedio de los randomicos(solo para saber la media de los datos)\n",
        "for i in range(100):\n",
        "    Promedio = r[i] + Promedio\n",
        "#print(\"Promedio \" + str(Promedio))\n",
        "    \n",
        "Promedio=Promedio/100\n",
        "#Se ordenan de menor a mayor los randomicos anteriores\n",
        "#se uso np.sort que es u ordenamiento mucho mas optimizado y que rebaja la complejidad a casi lineal\n",
        "B = np.sort(r); \n",
        "\n",
        "print(B)\n",
        "\n",
        "#Se realiza la diferencia del randomico n menos el randomico n-1, para obtener la diferencia que hay entre cada uno de ellos\n",
        "for k in range(99):\n",
        "    Diferencia[k]=(B[k + 1] - B[k])\n",
        "      \n",
        "#Se ordenan las diferencias de menor a mayor, siendo las mas grandes las que causaran una variacion mayor en los grupos, por lo que son las que debemos agrupar en el grupo siguiente y no dejarlas en el mismo\n",
        "#se uso np.sort que es u ordenamiento mucho mas optimizado y que rebaja la complejidad a casi lineal\n",
        "C = np.sort(Diferencia, axis=0)\n",
        "\n",
        "# Se ordenan los valores teniendo en cuenta si la diferencia del valor n menos n-1 es menos a las 9 diferencias más grandes encontradas en el paso anterior, con el fin de evitar que altere el promedio del grupo.\n",
        "for k in range(0,99):\n",
        "  Diferencia[k] = B[k + 1] - B[k]\n",
        "  if (Diferencia[k] < C[91]):\n",
        "    Grupos[k] = B[k]\n",
        "                \n",
        "# Se imprime el peso de los individuos, siendo el valor 0 la diferencia entre un grupo y el siguiente\n",
        "# con un total de 9 grupos que eran los solicitados.   \n",
        "print(\"Grupos separados por un 0: \")\n",
        "print(Grupos)"
      ],
      "execution_count": 0,
      "outputs": [
        {
          "output_type": "stream",
          "text": [
            "[34.90848334 34.92267234 34.94300062 34.988618   34.99806443 35.04297796\n",
            " 35.08743879 35.14142093 35.17046938 35.23164811 35.24080091 35.33700121\n",
            " 35.34560061 35.38210921 35.38805922 35.40660488 35.43022902 35.45107149\n",
            " 35.53165944 35.56228805 35.57389976 35.61228383 35.66392873 35.76123657\n",
            " 35.78490655 35.82730991 35.93408285 35.94610281 36.06840698 36.08335619\n",
            " 36.09157875 36.0931233  36.14352916 36.14519874 36.17037104 36.27912857\n",
            " 36.37177909 36.42696515 36.49297486 36.53931252 36.58932505 36.62473211\n",
            " 36.63413429 36.94625754 36.95017687 36.96017898 37.02408071 37.04691431\n",
            " 37.04718785 37.05261865 37.07563799 37.07804199 37.1140682  37.17740528\n",
            " 37.18765438 37.30955076 37.31508447 37.35587665 37.36002446 37.40469819\n",
            " 37.43378023 37.48528399 37.50740518 37.53078249 37.55345858 37.72348879\n",
            " 37.74104815 37.8092497  37.88334859 37.95604804 37.98859475 37.99865991\n",
            " 38.04397682 38.04784131 38.16163537 38.18358577 38.19536407 38.20487234\n",
            " 38.26087779 38.32677925 38.34472201 38.35737675 38.42594695 38.51561752\n",
            " 38.57198411 38.60983669 38.63170663 38.66667366 38.70486571 38.70929333\n",
            " 38.71665147 38.76543017 38.77413361 38.83560824 38.8374816  38.84497415\n",
            " 38.85670598 38.93618201 38.95661314 39.01183885]\n",
            "Grupos separados por un 0: \n",
            "[[34.90848334]\n",
            " [34.92267234]\n",
            " [34.94300062]\n",
            " [34.988618  ]\n",
            " [34.99806443]\n",
            " [35.04297796]\n",
            " [35.08743879]\n",
            " [35.14142093]\n",
            " [35.17046938]\n",
            " [35.23164811]\n",
            " [35.24080091]\n",
            " [35.33700121]\n",
            " [35.34560061]\n",
            " [35.38210921]\n",
            " [35.38805922]\n",
            " [35.40660488]\n",
            " [35.43022902]\n",
            " [35.45107149]\n",
            " [35.53165944]\n",
            " [35.56228805]\n",
            " [35.57389976]\n",
            " [35.61228383]\n",
            " [ 0.        ]\n",
            " [35.76123657]\n",
            " [35.78490655]\n",
            " [ 0.        ]\n",
            " [35.93408285]\n",
            " [ 0.        ]\n",
            " [36.06840698]\n",
            " [36.08335619]\n",
            " [36.09157875]\n",
            " [36.0931233 ]\n",
            " [36.14352916]\n",
            " [36.14519874]\n",
            " [ 0.        ]\n",
            " [36.27912857]\n",
            " [36.37177909]\n",
            " [36.42696515]\n",
            " [36.49297486]\n",
            " [36.53931252]\n",
            " [36.58932505]\n",
            " [36.62473211]\n",
            " [ 0.        ]\n",
            " [36.94625754]\n",
            " [36.95017687]\n",
            " [36.96017898]\n",
            " [37.02408071]\n",
            " [37.04691431]\n",
            " [37.04718785]\n",
            " [37.05261865]\n",
            " [37.07563799]\n",
            " [37.07804199]\n",
            " [37.1140682 ]\n",
            " [37.17740528]\n",
            " [ 0.        ]\n",
            " [37.30955076]\n",
            " [37.31508447]\n",
            " [37.35587665]\n",
            " [37.36002446]\n",
            " [37.40469819]\n",
            " [37.43378023]\n",
            " [37.48528399]\n",
            " [37.50740518]\n",
            " [37.53078249]\n",
            " [ 0.        ]\n",
            " [37.72348879]\n",
            " [37.74104815]\n",
            " [37.8092497 ]\n",
            " [37.88334859]\n",
            " [37.95604804]\n",
            " [37.98859475]\n",
            " [37.99865991]\n",
            " [38.04397682]\n",
            " [ 0.        ]\n",
            " [38.16163537]\n",
            " [38.18358577]\n",
            " [38.19536407]\n",
            " [38.20487234]\n",
            " [38.26087779]\n",
            " [38.32677925]\n",
            " [38.34472201]\n",
            " [38.35737675]\n",
            " [38.42594695]\n",
            " [38.51561752]\n",
            " [38.57198411]\n",
            " [38.60983669]\n",
            " [38.63170663]\n",
            " [38.66667366]\n",
            " [38.70486571]\n",
            " [38.70929333]\n",
            " [38.71665147]\n",
            " [38.76543017]\n",
            " [38.77413361]\n",
            " [38.83560824]\n",
            " [38.8374816 ]\n",
            " [38.84497415]\n",
            " [38.85670598]\n",
            " [38.93618201]\n",
            " [38.95661314]]\n"
          ],
          "name": "stdout"
        }
      ]
    },
    {
      "metadata": {
        "id": "FwegcUgkVRk5",
        "colab_type": "text"
      },
      "cell_type": "markdown",
      "source": [
        "La complejidad mejora debido a la mejora de los algortimos de ordenamiento en las dos secciones del codigo donde se deben posicionar valores, pasando de O(N^2) a O(N Log N)"
      ]
    },
    {
      "metadata": {
        "colab_type": "text",
        "id": "eGDB4K6uk1iN"
      },
      "cell_type": "markdown",
      "source": [
        "### (*)Calcula la complejidad del algoritmo "
      ]
    },
    {
      "metadata": {
        "colab_type": "text",
        "id": "NhpTh_BPk1ms"
      },
      "cell_type": "markdown",
      "source": [
        "Respuesta\n",
        "\n",
        "haciendo las mejoras correspondientes en los dos lugares donde se debe ordenar los vectores iniciales y de diferencia la complejidad se rebaja a casi lineal O(N Log N)"
      ]
    },
    {
      "metadata": {
        "colab_type": "text",
        "id": "3M6QjTsSkmYe"
      },
      "cell_type": "markdown",
      "source": [
        "Según el problema (y tenga sentido), diseña un juego de datos de entrada aleatorios"
      ]
    },
    {
      "metadata": {
        "colab_type": "text",
        "id": "Jc3_OlyNkvjZ"
      },
      "cell_type": "markdown",
      "source": [
        "Respuesta"
      ]
    },
    {
      "metadata": {
        "colab_type": "code",
        "id": "sJ-N2etjkyWc",
        "colab": {}
      },
      "cell_type": "code",
      "source": [
        ""
      ],
      "execution_count": 0,
      "outputs": []
    },
    {
      "metadata": {
        "colab_type": "text",
        "id": "zy5ZROmjlGo1"
      },
      "cell_type": "markdown",
      "source": [
        "Aplica el algoritmo al juego de datos generado"
      ]
    },
    {
      "metadata": {
        "colab_type": "text",
        "id": "_Cmj-PVylMsa"
      },
      "cell_type": "markdown",
      "source": [
        "Respuesta"
      ]
    },
    {
      "metadata": {
        "id": "TLQzvoboWYUQ",
        "colab_type": "text"
      },
      "cell_type": "markdown",
      "source": [
        ""
      ]
    },
    {
      "metadata": {
        "colab_type": "code",
        "id": "Jkx8GeiYlUz1",
        "colab": {}
      },
      "cell_type": "code",
      "source": [
        ""
      ],
      "execution_count": 0,
      "outputs": []
    },
    {
      "metadata": {
        "colab_type": "text",
        "id": "eTFWUJQrtGcv"
      },
      "cell_type": "markdown",
      "source": [
        "### Enumera las referencias que has utilizado(si ha sido necesario) para llevar a cabo el trabajo"
      ]
    },
    {
      "metadata": {
        "colab_type": "text",
        "id": "YKQ_mRBttWsP"
      },
      "cell_type": "markdown",
      "source": [
        "Respuesta\n",
        "\n",
        "1.https://jakevdp.github.io/PythonDataScienceHandbook/02.08-sorting.html (distintos tipos de ordenamiento y explicación de sus complejidades)<br>\n",
        "2.https://www.afternerd.com/blog/python-sort-list (Ordenación especial cuando hay flotantes de precisión larga)\n",
        "2.https://www.inf.utfsm.cl/~esaez/fio/s2_2004/apuntes/LP_s2_2004.pdf (Función objetivo y condiciones)"
      ]
    },
    {
      "metadata": {
        "colab_type": "text",
        "id": "kAkDPUyRtYyH"
      },
      "cell_type": "markdown",
      "source": [
        "Describe brevemente las lineas de como crees que es posible avanzar en el estudio del problema. Ten en cuenta incluso posibles variaciones del problema y/o variaciones al alza del tamaño"
      ]
    },
    {
      "metadata": {
        "colab_type": "text",
        "id": "IE0uZmo-tZu-"
      },
      "cell_type": "markdown",
      "source": [
        "Respuesta"
      ]
    },
    {
      "metadata": {
        "colab_type": "text",
        "id": "RsPH61ttxWuP"
      },
      "cell_type": "markdown",
      "source": [
        "### Aporte importante\n",
        "\n",
        "lista de varias complejidades de las operaciones internas de python calculadas función por función\n",
        "y comparación de las implementaciones de acuerdo a las fucniones internas usadas. \n",
        "\n",
        "https://www.ics.uci.edu/~pattis/ICS-33/lectures/complexitypython.txt"
      ]
    }
  ]
}