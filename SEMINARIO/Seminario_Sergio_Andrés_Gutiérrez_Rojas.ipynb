{
  "nbformat": 4,
  "nbformat_minor": 0,
  "metadata": {
    "colab": {
      "name": "Seminario-Sergio_Andrés_Gutiérrez_Rojas.ipynb",
      "version": "0.3.2",
      "provenance": [],
      "collapsed_sections": [],
      "include_colab_link": true
    },
    "kernelspec": {
      "name": "python3",
      "display_name": "Python 3"
    }
  },
  "cells": [
    {
      "cell_type": "markdown",
      "metadata": {
        "id": "view-in-github",
        "colab_type": "text"
      },
      "source": [
        "<a href=\"https://colab.research.google.com/github/sergiogut1805/03MAIR-Algoritmos-de-optimizacion/blob/master/SEMINARIO/Seminario_Sergio_Andr%C3%A9s_Guti%C3%A9rrez_Rojas.ipynb\" target=\"_parent\"><img src=\"https://colab.research.google.com/assets/colab-badge.svg\" alt=\"Open In Colab\"/></a>"
      ]
    },
    {
      "metadata": {
        "id": "hVbXYX-RfPWh",
        "colab_type": "text"
      },
      "cell_type": "markdown",
      "source": [
        "# Algoritmos de optimización - Seminario<br>\n",
        "Nombre y Apellidos:  Sergio Andrés Gutiérrez Rojas <br>\n",
        "Url: https://github.com/sergiogut1805/03MAIR-Algoritmos-de-optimizacion/tree/master/SEMINARIO<br>\n",
        "Problema:\n",
        "> 1. Elección de grupos de población homogéneos <br>\n",
        "\n",
        "Descripción del problema:\n",
        "\n",
        "Una productora ganadera nos encarga la tarea de seleccionar grupos de\n",
        "terneros para aplicar 3 tratamientos diferentes. Para cada uno de los\n",
        "tratamientos debemos seleccionar 3 grupos de terneros que sean lo mas\n",
        "homogéneos posible en peso para que en los resultados del tratamiento influya\n",
        "lo menos posible el peso del animal. Disponemos de una población de N\n",
        "animales entre machos y hembras\n",
        "• Se solicita diseñar un algoritmo para conseguir una agrupación que cumpla de la\n",
        "mejor manera posible las especificaciones de la productora.\n",
        "Seminario I - SE1 Asignatura: Algoritmos de Optimización – TC1\n",
        "Problema 1. Elección de grupos de población homogéneos\n",
        "ID Peso Sexo\n",
        "1 38.7 M\n",
        "2 37.1 H\n",
        "3 39.2 M\n",
        "• Aun se desconocen los datos concretos de los animales por lo que debemos\n",
        "trabajar con datos que debemos generar de forma aleatoria. Lo que si nos\n",
        "proporcionan es una plantilla de los datos:\n",
        "• Hemos podido averigua que el peso medio del ternero es 37kg con una\n",
        "desviación estándar de 2.1\n",
        "\n",
        "(*) La respuesta es obligatoria\n",
        "\n",
        "\n",
        "\n",
        "\n",
        "\n",
        "                                        "
      ]
    },
    {
      "metadata": {
        "id": "3_-exlrTgLd-",
        "colab_type": "text"
      },
      "cell_type": "markdown",
      "source": [
        "(*)¿Cuantas posibilidades hay sin tener en cuenta las restricciones?<br>\n",
        "\n",
        "Para calcular el número posibles de soluciones debemos tener en cuenta algunos factores.  \n",
        "\n",
        "Se deben realizar un total de 9 grupos de terneros de tal forma que sean lo más homogéneos posibles. \n",
        "\n",
        "Si se tiene una cantidad de N terneros donde su peso medio es de 37kg con una desviación estándar de 2.1kg sabremos que todos estarán entre 39.1kg y 34.9kg. \n",
        "\n",
        "Cada vez que introduzcamos uno de los terneros en un grupo tendremos un total de (N-1) terneros, y al final la suma de los terneros en todos los grupos deberá ser de N.  \n",
        "\n",
        "basado en esto el número total de soluciones sin tener en cuenta las soluciones será infinito, pues si no influye el que los resultados sean lo más homogéneos posibles en peso, el sexo del animal, o la cantidad de animales en cada grupo, las posibilidades de realizar los 9 grupos con cualquier ternero y con cualquier cantidad de terneros son infinitas. \n",
        "\n",
        "\n",
        "¿Cuantas posibilidades hay teniendo en cuenta todas las restricciones.\n",
        "\n",
        "\n"
      ]
    },
    {
      "metadata": {
        "id": "WfCUqJyKhPcw",
        "colab_type": "text"
      },
      "cell_type": "markdown",
      "source": [
        "Respuesta"
      ]
    },
    {
      "metadata": {
        "id": "dzynfVJahHoY",
        "colab_type": "text"
      },
      "cell_type": "markdown",
      "source": [
        "Modelo para el espacio de soluciones<br>\n",
        "(*) ¿Cual es la estructura de datos que mejor se adapta al problema? Argumentalo.(Es posible que hayas elegido una al principio y veas la necesidad de cambiar, arguentalo)\n",
        "\n",
        "Al etiquetar los terneros con un índice de 1 a N podemos indicar el peso estimado de cada uno de los N terneros, para posteriormente ordenar dicho peso de menor a mayor y obtener la diferencia de peso entre el primero y segundo, segundo y tercero, etc...  \n",
        "\n",
        "de esta manera sabremos la variación entre el peso de cada grupo de terneros y después obteniendo las variaciones más grandes podemos decir que estas causarían una desviación en la homogeneidad del grupo, por lo que con el fin de evitar esto se realizaría un nuevo grupo con este ternero para que en este nuevo grupo la homogeneidad sea mayor, y realizamos esto para separar los 9 grupos. \n"
      ]
    },
    {
      "metadata": {
        "id": "xFIJrOwKi2Ti",
        "colab_type": "text"
      },
      "cell_type": "markdown",
      "source": [
        "Respuesta"
      ]
    },
    {
      "metadata": {
        "id": "38c-7-ejhJmA",
        "colab_type": "code",
        "colab": {}
      },
      "cell_type": "code",
      "source": [
        ""
      ],
      "execution_count": 0,
      "outputs": []
    },
    {
      "metadata": {
        "id": "7Z9U2W7bi-XS",
        "colab_type": "text"
      },
      "cell_type": "markdown",
      "source": [
        "Según el modelo para el espacio de soluciones<br>\n",
        "(*)¿Cual es la función objetivo?\n",
        "\n",
        "(*)¿Es un problema de maximización o minimización?\n",
        "\n",
        "Es un problema de minimización pues se inicia con un grupo de N individuos y se van reduciendo o separando con el fin de garantizar una homogeneidad en los grupos creados con base a ciertos parámetros de cada individuo. "
      ]
    },
    {
      "metadata": {
        "id": "hBalWLM7j1_d",
        "colab_type": "text"
      },
      "cell_type": "markdown",
      "source": [
        "Respuesta"
      ]
    },
    {
      "metadata": {
        "id": "pDA-rg3Gj5Lz",
        "colab_type": "code",
        "colab": {
          "base_uri": "https://localhost:8080/",
          "height": 268
        },
        "outputId": "8145616c-a13a-4a88-85b9-f5b692e294ef"
      },
      "cell_type": "code",
      "source": [
        "import numpy as np\n",
        "import random\n",
        "\n",
        "a = 34.9\n",
        "b = 39.1\n",
        "total = 0\n",
        "k = 0\n",
        "n = 0\n",
        "H = np.zeros((99, 1))\n",
        "Grupo = 0\n",
        "Grupos = np.zeros((99, 1))\n",
        "\n",
        "r = []\n",
        "\n",
        "for i in range(99):\n",
        "  r.append(a + (b - a) * random.random())\n",
        "  \n",
        "print(r)\n",
        "  \n",
        "\n",
        "#%se obtiene el promedio de los randomicos\n",
        "for i in range(100):\n",
        "    total = r[i] + total\n",
        "    end\n",
        "    total / 100\n",
        "    #%Se ordenan de menor a mayor\n",
        "    B = sort(r); print(B)\n",
        "\n",
        "    for k in range(99):\n",
        "        H(k).lvalue = B(k + 1) - B(k)\n",
        "        end\n",
        "        H()\n",
        "        C = sort(H)\n",
        "\n",
        "        for k in range(99):\n",
        "            H(k).lvalue = B(k + 1) - B(k)\n",
        "            if (H(k) < C(92)):\n",
        "                Grupos(k).lvalue = B(k)\n",
        "                end\n",
        "                end\n",
        "                Grupos()"
      ],
      "execution_count": 39,
      "outputs": [
        {
          "output_type": "stream",
          "text": [
            "[36.711064156552084, 35.06742065594551, 37.01190277506027, 36.475280330233986, 38.691043279050135, 38.32187764358646, 38.75892751731257, 38.89941895513156, 36.47066131081713, 38.25557369369404, 39.09740660482317, 36.846089064292535, 37.068126180859394, 37.41186663722485, 38.74780855648789, 37.38868577901677, 35.00190184669071, 35.13792650412291, 36.71933646874782, 34.985467532552235, 35.94798889063601, 38.33672147838296, 37.778528025594476, 35.06763150971214, 35.836033770432074, 37.32553532286906, 38.46048128313766, 36.57801363299202, 35.747175238160075, 37.35073123630394, 38.30417405391779, 36.1176669026399, 35.372179247153916, 36.40497484928724, 38.74354211673947, 38.542304696947966, 35.93639278552968, 36.406410892784066, 37.32751231784118, 39.04150256477129, 36.937555422231064, 36.7459034133253, 39.025418862433995, 35.20833936748071, 36.36764075758512, 35.77683242682847, 37.53262912971343, 38.79956921051888, 38.323196995592404, 35.37790570875113, 36.4173934515353, 36.20384672932394, 37.48173429317569, 35.10593553409435, 38.62865795397566, 36.4534992849567, 37.90296801624603, 36.895987032729735, 38.36570842643159, 39.04143502521564, 36.07557427972027, 37.029183818669296, 36.27138142254465, 36.55058522120104, 38.671692450120965, 38.03353502662474, 36.94880034964158, 39.0175540011775, 37.363527829526326, 37.464540078349145, 37.01767353493082, 36.713735180864916, 36.44621060645756, 38.887081521322685, 37.93060755639442, 36.11846328058436, 35.482589366911256, 35.18313575213037, 36.20803658259313, 37.657251281364935, 35.66778404534973, 38.57345540913099, 36.24537552100935, 38.57362098767017, 36.205539788098314, 35.96515615458186, 35.61411263858175, 36.94159270543147, 37.073860885756254, 38.47849849165732, 38.66321154537372, 38.20991524975445, 37.47475332802118, 36.58909199832578, 37.655109960867755, 35.84182265627126, 35.71118239118595, 35.56485096651312, 37.56081340052592]\n"
          ],
          "name": "stdout"
        },
        {
          "output_type": "error",
          "ename": "NameError",
          "evalue": "ignored",
          "traceback": [
            "\u001b[0;31m---------------------------------------------------------------------------\u001b[0m",
            "\u001b[0;31mNameError\u001b[0m                                 Traceback (most recent call last)",
            "\u001b[0;32m<ipython-input-39-3e82ef4115f5>\u001b[0m in \u001b[0;36m<module>\u001b[0;34m()\u001b[0m\n\u001b[1;32m     22\u001b[0m \u001b[0;32mfor\u001b[0m \u001b[0mi\u001b[0m \u001b[0;32min\u001b[0m \u001b[0mrange\u001b[0m\u001b[0;34m(\u001b[0m\u001b[0;36m100\u001b[0m\u001b[0;34m)\u001b[0m\u001b[0;34m:\u001b[0m\u001b[0;34m\u001b[0m\u001b[0;34m\u001b[0m\u001b[0m\n\u001b[1;32m     23\u001b[0m     \u001b[0mtotal\u001b[0m \u001b[0;34m=\u001b[0m \u001b[0mr\u001b[0m\u001b[0;34m[\u001b[0m\u001b[0mi\u001b[0m\u001b[0;34m]\u001b[0m \u001b[0;34m+\u001b[0m \u001b[0mtotal\u001b[0m\u001b[0;34m\u001b[0m\u001b[0;34m\u001b[0m\u001b[0m\n\u001b[0;32m---> 24\u001b[0;31m     \u001b[0mend\u001b[0m\u001b[0;34m\u001b[0m\u001b[0;34m\u001b[0m\u001b[0m\n\u001b[0m\u001b[1;32m     25\u001b[0m     \u001b[0mtotal\u001b[0m \u001b[0;34m/\u001b[0m \u001b[0;36m100\u001b[0m\u001b[0;34m\u001b[0m\u001b[0;34m\u001b[0m\u001b[0m\n\u001b[1;32m     26\u001b[0m     \u001b[0;31m#%Se ordenan de menor a mayor\u001b[0m\u001b[0;34m\u001b[0m\u001b[0;34m\u001b[0m\u001b[0;34m\u001b[0m\u001b[0m\n",
            "\u001b[0;31mNameError\u001b[0m: name 'end' is not defined"
          ]
        }
      ]
    },
    {
      "metadata": {
        "id": "rlnTYgY1j6I2",
        "colab_type": "text"
      },
      "cell_type": "markdown",
      "source": [
        "Diseña un algoritmo para resolver el problema por fuerza bruta"
      ]
    },
    {
      "metadata": {
        "id": "70rDgxYXkC8r",
        "colab_type": "text"
      },
      "cell_type": "markdown",
      "source": [
        "Respuesta"
      ]
    },
    {
      "metadata": {
        "id": "CJb5sQ0qkENy",
        "colab_type": "code",
        "colab": {}
      },
      "cell_type": "code",
      "source": [
        ""
      ],
      "execution_count": 0,
      "outputs": []
    },
    {
      "metadata": {
        "id": "tgrnsC2nkFa8",
        "colab_type": "text"
      },
      "cell_type": "markdown",
      "source": [
        "Calcula la complejidad del algoritmo por fuerza bruta"
      ]
    },
    {
      "metadata": {
        "id": "9eUd3xwckP68",
        "colab_type": "text"
      },
      "cell_type": "markdown",
      "source": [
        "Respuesta"
      ]
    },
    {
      "metadata": {
        "id": "rvZWwL-ckRST",
        "colab_type": "code",
        "colab": {}
      },
      "cell_type": "code",
      "source": [
        ""
      ],
      "execution_count": 0,
      "outputs": []
    },
    {
      "metadata": {
        "id": "txbrmLmskReM",
        "colab_type": "text"
      },
      "cell_type": "markdown",
      "source": [
        "(*)Diseña un algoritmo que mejore la complejidad del algortimo por fuerza bruta. Argumenta porque crees que mejora el algoritmo por fuerza bruta"
      ]
    },
    {
      "metadata": {
        "id": "hLrVwt5QkZPD",
        "colab_type": "text"
      },
      "cell_type": "markdown",
      "source": [
        "Respuesta"
      ]
    },
    {
      "metadata": {
        "id": "m1eyM21Vkabg",
        "colab_type": "code",
        "colab": {}
      },
      "cell_type": "code",
      "source": [
        ""
      ],
      "execution_count": 0,
      "outputs": []
    },
    {
      "metadata": {
        "id": "eGDB4K6uk1iN",
        "colab_type": "text"
      },
      "cell_type": "markdown",
      "source": [
        "(*)Calcula la complejidad del algoritmo "
      ]
    },
    {
      "metadata": {
        "id": "NhpTh_BPk1ms",
        "colab_type": "text"
      },
      "cell_type": "markdown",
      "source": [
        "Respuesta"
      ]
    },
    {
      "metadata": {
        "id": "nREzhkStlCq8",
        "colab_type": "code",
        "colab": {}
      },
      "cell_type": "code",
      "source": [
        ""
      ],
      "execution_count": 0,
      "outputs": []
    },
    {
      "metadata": {
        "id": "3M6QjTsSkmYe",
        "colab_type": "text"
      },
      "cell_type": "markdown",
      "source": [
        "Según el problema (y tenga sentido), diseña un juego de datos de entrada aleatorios"
      ]
    },
    {
      "metadata": {
        "id": "Jc3_OlyNkvjZ",
        "colab_type": "text"
      },
      "cell_type": "markdown",
      "source": [
        "Respuesta"
      ]
    },
    {
      "metadata": {
        "id": "sJ-N2etjkyWc",
        "colab_type": "code",
        "colab": {}
      },
      "cell_type": "code",
      "source": [
        ""
      ],
      "execution_count": 0,
      "outputs": []
    },
    {
      "metadata": {
        "id": "zy5ZROmjlGo1",
        "colab_type": "text"
      },
      "cell_type": "markdown",
      "source": [
        "Aplica el algoritmo al juego de datos generado"
      ]
    },
    {
      "metadata": {
        "id": "_Cmj-PVylMsa",
        "colab_type": "text"
      },
      "cell_type": "markdown",
      "source": [
        "Respuesta"
      ]
    },
    {
      "metadata": {
        "id": "Jkx8GeiYlUz1",
        "colab_type": "code",
        "colab": {}
      },
      "cell_type": "code",
      "source": [
        ""
      ],
      "execution_count": 0,
      "outputs": []
    },
    {
      "metadata": {
        "colab_type": "text",
        "id": "eTFWUJQrtGcv"
      },
      "cell_type": "markdown",
      "source": [
        "Enumera las referencias que has utilizado(si ha sido necesario) para llevar a cabo el trabajo"
      ]
    },
    {
      "metadata": {
        "id": "YKQ_mRBttWsP",
        "colab_type": "text"
      },
      "cell_type": "markdown",
      "source": [
        "Respuesta"
      ]
    },
    {
      "metadata": {
        "id": "kAkDPUyRtYyH",
        "colab_type": "text"
      },
      "cell_type": "markdown",
      "source": [
        "Describe brevemente las lineas de como crees que es posible avanzar en el estudio del problema. Ten en cuenta incluso posibles variaciones del problema y/o variaciones al alza del tamaño"
      ]
    },
    {
      "metadata": {
        "id": "IE0uZmo-tZu-",
        "colab_type": "text"
      },
      "cell_type": "markdown",
      "source": [
        "Respuesta"
      ]
    }
  ]
}