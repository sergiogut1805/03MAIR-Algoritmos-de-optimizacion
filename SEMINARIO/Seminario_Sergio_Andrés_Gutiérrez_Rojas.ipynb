{
  "nbformat": 4,
  "nbformat_minor": 0,
  "metadata": {
    "colab": {
      "name": "Seminario-Sergio_Andrés_Gutiérrez_Rojas.ipynb",
      "version": "0.3.2",
      "provenance": [],
      "collapsed_sections": [],
      "include_colab_link": true
    },
    "kernelspec": {
      "name": "python3",
      "display_name": "Python 3"
    }
  },
  "cells": [
    {
      "cell_type": "markdown",
      "metadata": {
        "id": "view-in-github",
        "colab_type": "text"
      },
      "source": [
        "<a href=\"https://colab.research.google.com/github/sergiogut1805/03MAIR-Algoritmos-de-optimizacion/blob/master/SEMINARIO/Seminario_Sergio_Andr%C3%A9s_Guti%C3%A9rrez_Rojas.ipynb\" target=\"_parent\"><img src=\"https://colab.research.google.com/assets/colab-badge.svg\" alt=\"Open In Colab\"/></a>"
      ]
    },
    {
      "metadata": {
        "id": "hVbXYX-RfPWh",
        "colab_type": "text"
      },
      "cell_type": "markdown",
      "source": [
        "# Algoritmos de optimización - Seminario<br>\n",
        "Nombre y Apellidos:  Sergio Andrés Gutiérrez Rojas <br>\n",
        "Url: https://github.com/sergiogut1805/03MAIR-Algoritmos-de-optimizacion/tree/master/SEMINARIO<br>\n",
        "Problema:\n",
        "> 1. Elección de grupos de población homogéneos <br>\n",
        "\n",
        "Descripción del problema:\n",
        "\n",
        "Una productora ganadera nos encarga la tarea de seleccionar grupos de\n",
        "terneros para aplicar 3 tratamientos diferentes. Para cada uno de los\n",
        "tratamientos debemos seleccionar 3 grupos de terneros que sean lo mas\n",
        "homogéneos posible en peso para que en los resultados del tratamiento influya\n",
        "lo menos posible el peso del animal. Disponemos de una población de N\n",
        "animales entre machos y hembras\n",
        "• Se solicita diseñar un algoritmo para conseguir una agrupación que cumpla de la\n",
        "mejor manera posible las especificaciones de la productora.\n",
        "Seminario I - SE1 Asignatura: Algoritmos de Optimización – TC1\n",
        "Problema 1. Elección de grupos de población homogéneos\n",
        "ID Peso Sexo\n",
        "1 38.7 M\n",
        "2 37.1 H\n",
        "3 39.2 M\n",
        "• Aun se desconocen los datos concretos de los animales por lo que debemos\n",
        "trabajar con datos que debemos generar de forma aleatoria. Lo que si nos\n",
        "proporcionan es una plantilla de los datos:\n",
        "• Hemos podido averigua que el peso medio del ternero es 37kg con una\n",
        "desviación estándar de 2.1\n",
        "\n",
        "(*) La respuesta es obligatoria\n",
        "\n",
        "\n",
        "\n",
        "\n",
        "\n",
        "                                        "
      ]
    },
    {
      "metadata": {
        "id": "3_-exlrTgLd-",
        "colab_type": "text"
      },
      "cell_type": "markdown",
      "source": [
        "(*)¿Cuantas posibilidades hay sin tener en cuenta las restricciones?<br>\n",
        "\n",
        "Para calcular el número posibles de soluciones debemos tener en cuenta algunos factores.  \n",
        "\n",
        "Se deben realizar un total de 9 grupos de terneros de tal forma que sean lo más homogéneos posibles. \n",
        "\n",
        "Si se tiene una cantidad de N terneros donde su peso medio es de 37kg con una desviación estándar de 2.1kg sabremos que todos estarán entre 39.1kg y 34.9kg. \n",
        "\n",
        "Cada vez que introduzcamos uno de los terneros en un grupo tendremos un total de (N-1) terneros, y al final la suma de los terneros en todos los grupos deberá ser de N.  \n",
        "\n",
        "basado en esto el número total de soluciones sin tener en cuenta las soluciones será infinito, pues si no influye el que los resultados sean lo más homogéneos posibles en peso, el sexo del animal, o la cantidad de animales en cada grupo, las posibilidades de realizar los 9 grupos con cualquier ternero y con cualquier cantidad de terneros son infinitas. \n",
        "\n",
        "\n",
        "¿Cuantas posibilidades hay teniendo en cuenta todas las restricciones.\n",
        "\n",
        "\n"
      ]
    },
    {
      "metadata": {
        "id": "WfCUqJyKhPcw",
        "colab_type": "text"
      },
      "cell_type": "markdown",
      "source": [
        "Respuesta"
      ]
    },
    {
      "metadata": {
        "id": "dzynfVJahHoY",
        "colab_type": "text"
      },
      "cell_type": "markdown",
      "source": [
        "Modelo para el espacio de soluciones<br>\n",
        "(*) ¿Cual es la estructura de datos que mejor se adapta al problema? Argumentalo.(Es posible que hayas elegido una al principio y veas la necesidad de cambiar, arguentalo)\n",
        "\n",
        "Al etiquetar los terneros con un índice de 1 a N podemos indicar el peso estimado de cada uno de los N terneros, para posteriormente ordenar dicho peso de menor a mayor y obtener la diferencia de peso entre el primero y segundo, segundo y tercero, etc...  \n",
        "\n",
        "de esta manera sabremos la variación entre el peso de cada grupo de terneros y después obteniendo las variaciones más grandes podemos decir que estas causarían una desviación en la homogeneidad del grupo, por lo que con el fin de evitar esto se realizaría un nuevo grupo con este ternero para que en este nuevo grupo la homogeneidad sea mayor, y realizamos esto para separar los 9 grupos. \n"
      ]
    },
    {
      "metadata": {
        "id": "xFIJrOwKi2Ti",
        "colab_type": "text"
      },
      "cell_type": "markdown",
      "source": [
        "Respuesta"
      ]
    },
    {
      "metadata": {
        "id": "38c-7-ejhJmA",
        "colab_type": "code",
        "colab": {}
      },
      "cell_type": "code",
      "source": [
        ""
      ],
      "execution_count": 0,
      "outputs": []
    },
    {
      "metadata": {
        "id": "7Z9U2W7bi-XS",
        "colab_type": "text"
      },
      "cell_type": "markdown",
      "source": [
        "Según el modelo para el espacio de soluciones<br>\n",
        "(*)¿Cual es la función objetivo?\n",
        "\n",
        "(*)¿Es un problema de maximización o minimización?\n",
        "\n",
        "Es un problema de minimización pues se inicia con un grupo de N individuos y se van reduciendo o separando con el fin de garantizar una homogeneidad en los grupos creados con base a ciertos parámetros de cada individuo. "
      ]
    },
    {
      "metadata": {
        "id": "hBalWLM7j1_d",
        "colab_type": "text"
      },
      "cell_type": "markdown",
      "source": [
        "Respuesta"
      ]
    },
    {
      "metadata": {
        "id": "pDA-rg3Gj5Lz",
        "colab_type": "code",
        "colab": {
          "base_uri": "https://localhost:8080/",
          "height": 285
        },
        "outputId": "847a2932-c7af-416a-fb77-f418c5508bb3"
      },
      "cell_type": "code",
      "source": [
        "import numpy as np\n",
        "import random\n",
        "\n",
        "a = 34.9\n",
        "b = 39.1\n",
        "total = 0\n",
        "k = 0\n",
        "n = 0\n",
        "H = np.zeros((99, 1))\n",
        "Grupo = 0\n",
        "Grupos = np.zeros((99, 1))\n",
        "\n",
        "r = []\n",
        "\n",
        "for i in range(99):\n",
        "  r.append(a + (b - a) * random.random())\n",
        "  \n",
        "print(r)\n",
        "  \n",
        "\n",
        "#%se obtiene el promedio de los randomicos\n",
        "for i in range(99):\n",
        "    total = r[i] + total\n",
        "    \n",
        "total / 100\n",
        "#%Se ordenan de menor a mayor\n",
        "B = r.sort(); \n",
        "print(B)\n",
        "\n",
        "for k in range(99):\n",
        "  H.append(B[k + 1] - B[k])\n",
        "        \n",
        "H()\n",
        "C = H.sort()\n",
        "\n",
        "for k in range(99):\n",
        "  H(k).lvalue = B(k + 1) - B(k)\n",
        "  if (H(k) < C(92)):\n",
        "    Grupos(k).lvalue = B(k)\n",
        "                \n",
        "                \n",
        "Grupos"
      ],
      "execution_count": 52,
      "outputs": [
        {
          "output_type": "stream",
          "text": [
            "[37.701666064143176, 37.31795776503493, 35.20797796717158, 37.40137373747221, 35.407523910978966, 38.07703880368638, 36.47214063533725, 35.15153657326478, 38.06765095592418, 37.4595914055945, 38.17300268403902, 36.48837026083961, 36.95418505737703, 37.34331746997038, 36.91021534347394, 35.939200591715185, 37.445118024300456, 36.6566440804184, 37.84913439824305, 35.136263081724536, 37.572401628348736, 36.09797452225332, 36.27944259698632, 38.6773752752355, 35.07124851207545, 35.231743828439136, 35.04373103065812, 37.27503005553912, 36.72199225757428, 37.07528443338156, 37.26876264082116, 37.04961513422693, 34.91566933318117, 35.704955580898684, 38.28279846135213, 37.40861426980334, 37.96006543179254, 37.917883113573296, 36.89392126508424, 38.50396478145264, 35.825659621504734, 36.41041295827451, 36.90596836745814, 38.85278743128837, 37.40765888936153, 37.515774919368624, 37.84942936870811, 35.63806565477035, 37.71626713252699, 37.545849366245136, 37.89984988289452, 37.158609284441695, 36.76157501986367, 38.01029610857299, 35.054683576377, 37.14802821598048, 36.39216056987343, 36.654979014945795, 36.63602767690727, 35.36794628146621, 36.2753705804309, 37.394270015615476, 35.83907399985802, 36.23686205367318, 36.33817953674396, 36.61948109876768, 36.11611509789736, 38.32536814490628, 35.97346524787195, 38.22603087257788, 36.6408148275275, 35.44173166398165, 37.5610335151756, 35.002470939661464, 35.41385746546638, 37.74504219992361, 37.375201746138764, 37.633261867749496, 37.34412778759083, 36.86490205672308, 38.01257512081574, 38.33346707809956, 35.79320478554095, 37.33888376505293, 37.91180826991786, 37.197566709110816, 35.501349458015525, 37.29431971416865, 35.507593764110275, 36.051443796929256, 37.65363951816589, 38.738867489988316, 37.11965837583876, 37.997358237262446, 35.18245946002911, 35.76240613778411, 35.38328650213708, 36.1998587642042, 38.177216769706845]\n",
            "None\n"
          ],
          "name": "stdout"
        },
        {
          "output_type": "error",
          "ename": "AttributeError",
          "evalue": "ignored",
          "traceback": [
            "\u001b[0;31m---------------------------------------------------------------------------\u001b[0m",
            "\u001b[0;31mAttributeError\u001b[0m                            Traceback (most recent call last)",
            "\u001b[0;32m<ipython-input-52-82f29e2ee98b>\u001b[0m in \u001b[0;36m<module>\u001b[0;34m()\u001b[0m\n\u001b[1;32m     29\u001b[0m \u001b[0;34m\u001b[0m\u001b[0m\n\u001b[1;32m     30\u001b[0m \u001b[0;32mfor\u001b[0m \u001b[0mk\u001b[0m \u001b[0;32min\u001b[0m \u001b[0mrange\u001b[0m\u001b[0;34m(\u001b[0m\u001b[0;36m99\u001b[0m\u001b[0;34m)\u001b[0m\u001b[0;34m:\u001b[0m\u001b[0;34m\u001b[0m\u001b[0;34m\u001b[0m\u001b[0m\n\u001b[0;32m---> 31\u001b[0;31m   \u001b[0mH\u001b[0m\u001b[0;34m.\u001b[0m\u001b[0mappend\u001b[0m\u001b[0;34m(\u001b[0m\u001b[0mB\u001b[0m\u001b[0;34m[\u001b[0m\u001b[0mk\u001b[0m \u001b[0;34m+\u001b[0m \u001b[0;36m1\u001b[0m\u001b[0;34m]\u001b[0m \u001b[0;34m-\u001b[0m \u001b[0mB\u001b[0m\u001b[0;34m[\u001b[0m\u001b[0mk\u001b[0m\u001b[0;34m]\u001b[0m\u001b[0;34m)\u001b[0m\u001b[0;34m\u001b[0m\u001b[0;34m\u001b[0m\u001b[0m\n\u001b[0m\u001b[1;32m     32\u001b[0m \u001b[0;34m\u001b[0m\u001b[0m\n\u001b[1;32m     33\u001b[0m \u001b[0mH\u001b[0m\u001b[0;34m(\u001b[0m\u001b[0;34m)\u001b[0m\u001b[0;34m\u001b[0m\u001b[0;34m\u001b[0m\u001b[0m\n",
            "\u001b[0;31mAttributeError\u001b[0m: 'numpy.ndarray' object has no attribute 'append'"
          ]
        }
      ]
    },
    {
      "metadata": {
        "id": "rlnTYgY1j6I2",
        "colab_type": "text"
      },
      "cell_type": "markdown",
      "source": [
        "Diseña un algoritmo para resolver el problema por fuerza bruta"
      ]
    },
    {
      "metadata": {
        "id": "70rDgxYXkC8r",
        "colab_type": "text"
      },
      "cell_type": "markdown",
      "source": [
        "Respuesta"
      ]
    },
    {
      "metadata": {
        "id": "CJb5sQ0qkENy",
        "colab_type": "code",
        "colab": {}
      },
      "cell_type": "code",
      "source": [
        ""
      ],
      "execution_count": 0,
      "outputs": []
    },
    {
      "metadata": {
        "id": "tgrnsC2nkFa8",
        "colab_type": "text"
      },
      "cell_type": "markdown",
      "source": [
        "Calcula la complejidad del algoritmo por fuerza bruta"
      ]
    },
    {
      "metadata": {
        "id": "9eUd3xwckP68",
        "colab_type": "text"
      },
      "cell_type": "markdown",
      "source": [
        "Respuesta"
      ]
    },
    {
      "metadata": {
        "id": "rvZWwL-ckRST",
        "colab_type": "code",
        "colab": {}
      },
      "cell_type": "code",
      "source": [
        ""
      ],
      "execution_count": 0,
      "outputs": []
    },
    {
      "metadata": {
        "id": "txbrmLmskReM",
        "colab_type": "text"
      },
      "cell_type": "markdown",
      "source": [
        "(*)Diseña un algoritmo que mejore la complejidad del algortimo por fuerza bruta. Argumenta porque crees que mejora el algoritmo por fuerza bruta"
      ]
    },
    {
      "metadata": {
        "id": "hLrVwt5QkZPD",
        "colab_type": "text"
      },
      "cell_type": "markdown",
      "source": [
        "Respuesta"
      ]
    },
    {
      "metadata": {
        "id": "m1eyM21Vkabg",
        "colab_type": "code",
        "colab": {}
      },
      "cell_type": "code",
      "source": [
        ""
      ],
      "execution_count": 0,
      "outputs": []
    },
    {
      "metadata": {
        "id": "eGDB4K6uk1iN",
        "colab_type": "text"
      },
      "cell_type": "markdown",
      "source": [
        "(*)Calcula la complejidad del algoritmo "
      ]
    },
    {
      "metadata": {
        "id": "NhpTh_BPk1ms",
        "colab_type": "text"
      },
      "cell_type": "markdown",
      "source": [
        "Respuesta"
      ]
    },
    {
      "metadata": {
        "id": "nREzhkStlCq8",
        "colab_type": "code",
        "colab": {}
      },
      "cell_type": "code",
      "source": [
        ""
      ],
      "execution_count": 0,
      "outputs": []
    },
    {
      "metadata": {
        "id": "3M6QjTsSkmYe",
        "colab_type": "text"
      },
      "cell_type": "markdown",
      "source": [
        "Según el problema (y tenga sentido), diseña un juego de datos de entrada aleatorios"
      ]
    },
    {
      "metadata": {
        "id": "Jc3_OlyNkvjZ",
        "colab_type": "text"
      },
      "cell_type": "markdown",
      "source": [
        "Respuesta"
      ]
    },
    {
      "metadata": {
        "id": "sJ-N2etjkyWc",
        "colab_type": "code",
        "colab": {}
      },
      "cell_type": "code",
      "source": [
        ""
      ],
      "execution_count": 0,
      "outputs": []
    },
    {
      "metadata": {
        "id": "zy5ZROmjlGo1",
        "colab_type": "text"
      },
      "cell_type": "markdown",
      "source": [
        "Aplica el algoritmo al juego de datos generado"
      ]
    },
    {
      "metadata": {
        "id": "_Cmj-PVylMsa",
        "colab_type": "text"
      },
      "cell_type": "markdown",
      "source": [
        "Respuesta"
      ]
    },
    {
      "metadata": {
        "id": "Jkx8GeiYlUz1",
        "colab_type": "code",
        "colab": {}
      },
      "cell_type": "code",
      "source": [
        ""
      ],
      "execution_count": 0,
      "outputs": []
    },
    {
      "metadata": {
        "colab_type": "text",
        "id": "eTFWUJQrtGcv"
      },
      "cell_type": "markdown",
      "source": [
        "Enumera las referencias que has utilizado(si ha sido necesario) para llevar a cabo el trabajo"
      ]
    },
    {
      "metadata": {
        "id": "YKQ_mRBttWsP",
        "colab_type": "text"
      },
      "cell_type": "markdown",
      "source": [
        "Respuesta"
      ]
    },
    {
      "metadata": {
        "id": "kAkDPUyRtYyH",
        "colab_type": "text"
      },
      "cell_type": "markdown",
      "source": [
        "Describe brevemente las lineas de como crees que es posible avanzar en el estudio del problema. Ten en cuenta incluso posibles variaciones del problema y/o variaciones al alza del tamaño"
      ]
    },
    {
      "metadata": {
        "id": "IE0uZmo-tZu-",
        "colab_type": "text"
      },
      "cell_type": "markdown",
      "source": [
        "Respuesta"
      ]
    }
  ]
}