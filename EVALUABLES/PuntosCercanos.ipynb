{
  "nbformat": 4,
  "nbformat_minor": 0,
  "metadata": {
    "colab": {
      "name": "PuntosCercanos.ipynb",
      "version": "0.3.2",
      "provenance": [],
      "collapsed_sections": [],
      "include_colab_link": true
    },
    "kernelspec": {
      "name": "python3",
      "display_name": "Python 3"
    }
  },
  "cells": [
    {
      "cell_type": "markdown",
      "metadata": {
        "id": "view-in-github",
        "colab_type": "text"
      },
      "source": [
        "<a href=\"https://colab.research.google.com/github/sergiogut1805/03MAIR-Algoritmos-de-optimizacion/blob/master/EVALUABLES/PuntosCercanos.ipynb\" target=\"_parent\"><img src=\"https://colab.research.google.com/assets/colab-badge.svg\" alt=\"Open In Colab\"/></a>"
      ]
    },
    {
      "metadata": {
        "id": "HEFkgHiIhWwm",
        "colab_type": "text"
      },
      "cell_type": "markdown",
      "source": [
        "Suponer en 1D, o sea, una lista de números: [3403, 4537, 9089, 9746, 7259, ….\n",
        "\n",
        "Primer intento: Fuerza bruta\n",
        "\n",
        "Calcular la complejidad. ¿Se puede mejorar?\n",
        "\n",
        "Segundo intento. Aplicar Divide y Vencerás\n",
        "\n",
        "Calcular la complejidad. ¿Se puede mejorar?\n",
        "\n",
        "Extender el algoritmo a 2D: [(1122, 6175), (135, 4076), (7296, 2741)…\n",
        "\n",
        "Extender el algoritmo a 3D y nD\n",
        "\n",
        "Investiga sobre el problema.Aplicaciones, métodos de resolución, curiosidades, historia,..."
      ]
    },
    {
      "metadata": {
        "id": "DZmUvJcghatS",
        "colab_type": "code",
        "colab": {
          "base_uri": "https://localhost:8080/",
          "height": 34
        },
        "outputId": "8951dc45-328b-47d9-c71c-17acbfdc0433"
      },
      "cell_type": "code",
      "source": [
        "#fuerza bruta 2D\n",
        "\n",
        "import math\n",
        "import itertools \n",
        "\n",
        "# función de distancia\n",
        "def dist(p1, p2): \n",
        "    #calculo la hipotenusa para cada pareja\n",
        "    return math.sqrt((p2[0] - p1[0]) ** 2 + (p2[1] - p1[1]) ** 2)\n",
        "\n",
        "#armé los pares con un espacio para convertirlos en puntos\n",
        "LISTA_2D = [\"8.3 6.3\", \"9.7 10.2\", \"15.1 18.8\", \"9.5 7.5\", \"8.2 6.8\", \"10.2 19.1\"] \n",
        "# hago split por el espacio y armo cada point(x,y)\n",
        "points = [list(map(float, point.split())) for point in LISTA_2D]\n",
        "\n",
        "distminima = float(\"infinity\") \n",
        "# recorro las parejas\n",
        "for p1, p2 in itertools.combinations(points, 2): \n",
        "    if dist(p1, p2) < distminima: \n",
        "     distminima = dist(p1, p2) \n",
        "     paresmascercanos = (p1, p2) \n",
        "\n",
        "#parejas con menos distancia    \n",
        "print(paresmascercanos) "
      ],
      "execution_count": 104,
      "outputs": [
        {
          "output_type": "stream",
          "text": [
            "([8.3, 6.3], [8.2, 6.8])\n"
          ],
          "name": "stdout"
        }
      ]
    },
    {
      "metadata": {
        "id": "iCErJ8DsfPJn",
        "colab_type": "text"
      },
      "cell_type": "markdown",
      "source": [
        "**Su complejidad es O(log x) debido a que hay recursividad**"
      ]
    }
  ]
}