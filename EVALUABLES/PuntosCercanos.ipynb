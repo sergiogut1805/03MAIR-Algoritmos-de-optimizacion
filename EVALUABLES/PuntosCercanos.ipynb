{
  "nbformat": 4,
  "nbformat_minor": 0,
  "metadata": {
    "colab": {
      "name": "PuntosCercanos.ipynb",
      "version": "0.3.2",
      "provenance": [],
      "collapsed_sections": [],
      "include_colab_link": true
    },
    "kernelspec": {
      "name": "python3",
      "display_name": "Python 3"
    }
  },
  "cells": [
    {
      "cell_type": "markdown",
      "metadata": {
        "id": "view-in-github",
        "colab_type": "text"
      },
      "source": [
        "<a href=\"https://colab.research.google.com/github/sergiogut1805/03MAIR-Algoritmos-de-optimizacion/blob/master/EVALUABLES/PuntosCercanos.ipynb\" target=\"_parent\"><img src=\"https://colab.research.google.com/assets/colab-badge.svg\" alt=\"Open In Colab\"/></a>"
      ]
    },
    {
      "metadata": {
        "id": "HEFkgHiIhWwm",
        "colab_type": "text"
      },
      "cell_type": "markdown",
      "source": [
        "Suponer en 1D, o sea, una lista de números: [3403, 4537, 9089, 9746, 7259, ….\n",
        "\n",
        "Primer intento: Fuerza bruta\n",
        "\n",
        "Calcular la complejidad. ¿Se puede mejorar?\n",
        "\n",
        "Segundo intento. Aplicar Divide y Vencerás\n",
        "\n",
        "Calcular la complejidad. ¿Se puede mejorar?\n",
        "\n",
        "Extender el algoritmo a 2D: [(1122, 6175), (135, 4076), (7296, 2741)…\n",
        "\n",
        "Extender el algoritmo a 3D y nD\n",
        "\n",
        "Investiga sobre el problema.Aplicaciones, métodos de resolución, curiosidades, historia,..."
      ]
    },
    {
      "metadata": {
        "id": "mN2rum8lUGV2",
        "colab_type": "code",
        "colab": {}
      },
      "cell_type": "code",
      "source": [
        "import random\n",
        "\n",
        "LISTA_1D = [random.randrange(1,10000) for _ in range(1000) ]\n",
        "\n",
        "LISTA_2D = [(random.randrange(1,10000),random.randrange(1,10000)) for _ in range(1000) ]"
      ],
      "execution_count": 0,
      "outputs": []
    },
    {
      "metadata": {
        "id": "DZmUvJcghatS",
        "colab_type": "code",
        "outputId": "5a78843c-1041-4595-fc5b-0da1154ebc8c",
        "colab": {
          "base_uri": "https://localhost:8080/",
          "height": 34
        }
      },
      "cell_type": "code",
      "source": [
        "#fuerza bruta 1D\n",
        "\n",
        "import math\n",
        "\n",
        "#LISTA_1D.sort() \n",
        "#hago el primer calculo de distancia par la primera pareja\n",
        "distancia = abs(LISTA_1D[0] - LISTA_1D[1])\n",
        "par = (LISTA_1D[0], LISTA_1D[1])\n",
        "\n",
        "#recorro las parejas y comparo\n",
        "for i in range(0, len(LISTA_1D) - 1):  \n",
        "  if distancia > abs(LISTA_1D[i] - LISTA_1D[i + 1]): \n",
        "    distancia = abs(LISTA_1D[i] - LISTA_1D[i + 1])\n",
        "    par = (LISTA_1D[i], LISTA_1D[i+1])\n",
        "            \n",
        "print(par)"
      ],
      "execution_count": 59,
      "outputs": [
        {
          "output_type": "stream",
          "text": [
            "(124, 124)\n"
          ],
          "name": "stdout"
        }
      ]
    },
    {
      "metadata": {
        "id": "9Spv4TMuasLF",
        "colab_type": "text"
      },
      "cell_type": "markdown",
      "source": [
        "**Su complejidad es O(n) debido a que hay un ciclo**"
      ]
    },
    {
      "metadata": {
        "id": "6ONQaLZ2Zsvo",
        "colab_type": "code",
        "colab": {
          "base_uri": "https://localhost:8080/",
          "height": 34
        },
        "outputId": "a5ac9732-f3ad-4b99-e9ca-e77d3e9120ab"
      },
      "cell_type": "code",
      "source": [
        "#fuerza bruta 2D\n",
        "\n",
        "import itertools \n",
        "\n",
        "#función de distancia\n",
        "def dist(p1, p2): \n",
        "    #calculo la hipotenusa para cada pareja\n",
        "    return math.sqrt((p2[0] - p1[0]) ** 2 + (p2[1] - p1[1]) ** 2)\n",
        "\n",
        "distminima = float(\"infinity\") \n",
        "#recorro las parejas y comparo\n",
        "for p1, p2 in itertools.combinations(LISTA_2D, 2): \n",
        "    if dist(p1, p2) < distminima: \n",
        "      distminima = dist(p1, p2) \n",
        "      paresmascercanos = (p1, p2) \n",
        "  \n",
        "#parejas con menos distancia    \n",
        "print(paresmascercanos) "
      ],
      "execution_count": 57,
      "outputs": [
        {
          "output_type": "stream",
          "text": [
            "((8857, 4814), (8863, 4806))\n"
          ],
          "name": "stdout"
        }
      ]
    },
    {
      "metadata": {
        "id": "iCErJ8DsfPJn",
        "colab_type": "text"
      },
      "cell_type": "markdown",
      "source": [
        "**Su complejidad es O(n log) debido a que hay  recursividad**"
      ]
    }
  ]
}